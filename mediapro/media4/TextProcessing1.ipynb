{
 "cells": [
  {
   "cell_type": "markdown",
   "metadata": {},
   "source": [
    "# 自然言語処理１：形態素解析\n",
    "\n",
    "今回は自然言語処理の基礎技術である形態素解析を行います。\n",
    "\n",
    "形態素(morpheme)とは、意味を担う最小の言語要素であり、「単語」よりも少し小さく分割されたものです。   \n",
    "例えば「不確実」は1単語ですが、形態素解析では「不（接頭語）＋確実（名詞）」となります。   \n",
    "「不」は一単語としては存在しませんから、単語ではありません。   \n",
    "また、「おいしさ」は「おいし（形容詞）＋さ（接尾語）」です。   \n",
    "（ただし、Janomeが読み込んでいるIPAdicで定義された単位は、必ずしも言語学的な「形態素」ではなく、   \n",
    "解析の都合や、学習コーパスの作りやすさなどを勘案して、独自の形式になっているので、言語学的に厳密な文書解析に利用する際には注意が必要です。）\n",
    "\n",
    "コンピュータで形態素を自動的に制定する処理のことを「形態素解析」と呼び、それを行うツールのことを「形態素解析器」と呼びます。   \n",
    "形態素解析は、品詞や読みを特定したり、活用形を元に戻したりするのにも使います。   \n",
    "形態素解析の仕組みについては、授業でスライドを使って説明します。\n",
    "\n",
    "なお、実際に形態素として判定されるかどうかは、その形態素が形態素解析器で使用する辞書に登録されているかどうかによって決まります。   \n",
    "以下で使用する形態素解析器は機械学習ベースの手法ですので、誤りも含まれます。   \n",
    "形態素解析器が分割したからといって、それが正しい形態素とは限らないのでご注意ください。\n",
    "\n"
   ]
  },
  {
   "cell_type": "markdown",
   "metadata": {},
   "source": [
    "## 1. 形態素解析器\n",
    "\n",
    "フリーで使える形態素解析器としては、MeCab, ChaSen, JUMAN, KyTeaなどがあります。   \n",
    "それぞれのいい点・悪い点は授業でスライドを使って説明します。\n",
    "\n",
    "今回はpythonに組み込みが容易なjanomeを使います。   \n",
    "[janomeのWebページより](https://mocobeta.github.io/janome/)\n",
    "```\n",
    "Janome (蛇の目) は，Pure Python で書かれた，辞書内包の形態素解析器です。\n",
    "\n",
    "依存ライブラリなしで簡単にインストールでき，アプリケーションに組み込みやすいシンプルな API を備える形態素解析ライブラリを目指しています。\n",
    "```"
   ]
  },
  {
   "cell_type": "markdown",
   "metadata": {},
   "source": [
    "### 1.1 形態素解析\n",
    "\n",
    "「東京大学は欧米諸国の諸制度に倣った、日本国内で初の近代的な大学として設立された。」    \n",
    "という文章を形態素解析してみましょう（Wikipedia:「[東京大学＞東京大学全体](https://ja.wikipedia.org/wiki/%E6%9D%B1%E4%BA%AC%E5%A4%A7%E5%AD%A6)」より抜粋）。\n",
    "\n",
    "tokenをそのまま出力したときのフォーマットは以下のようになっています。\n",
    "\n",
    "```表層形, 品詞, 品詞細分類1, 品詞細分類2, 品詞細分類3, 活用型, 活用形, 原形, 読み, 発音```"
   ]
  },
  {
   "cell_type": "code",
   "execution_count": 1,
   "metadata": {
    "scrolled": true
   },
   "outputs": [
    {
     "name": "stdout",
     "output_type": "stream",
     "text": [
      "東京大学\t名詞,固有名詞,組織,*,*,*,東京大学,トウキョウダイガク,トーキョーダイガク\n",
      "は\t助詞,係助詞,*,*,*,*,は,ハ,ワ\n",
      "欧米\t名詞,固有名詞,地域,一般,*,*,欧米,オウベイ,オーベイ\n",
      "諸国\t名詞,一般,*,*,*,*,諸国,ショコク,ショコク\n",
      "の\t助詞,連体化,*,*,*,*,の,ノ,ノ\n",
      "諸\t接頭詞,名詞接続,*,*,*,*,諸,ショ,ショ\n",
      "制度\t名詞,一般,*,*,*,*,制度,セイド,セイド\n",
      "に\t助詞,格助詞,一般,*,*,*,に,ニ,ニ\n",
      "倣っ\t動詞,自立,*,*,五段・ワ行促音便,連用タ接続,倣う,ナラッ,ナラッ\n",
      "た\t助動詞,*,*,*,特殊・タ,基本形,た,タ,タ\n",
      "、\t記号,読点,*,*,*,*,、,、,、\n",
      "日本\t名詞,固有名詞,地域,国,*,*,日本,ニッポン,ニッポン\n",
      "国内\t名詞,一般,*,*,*,*,国内,コクナイ,コクナイ\n",
      "で\t助詞,格助詞,一般,*,*,*,で,デ,デ\n",
      "初\t名詞,一般,*,*,*,*,初,ハツ,ハツ\n",
      "の\t助詞,連体化,*,*,*,*,の,ノ,ノ\n",
      "近代\t名詞,一般,*,*,*,*,近代,キンダイ,キンダイ\n",
      "的\t名詞,接尾,形容動詞語幹,*,*,*,的,テキ,テキ\n",
      "な\t助動詞,*,*,*,特殊・ダ,体言接続,だ,ナ,ナ\n",
      "大学\t名詞,一般,*,*,*,*,大学,ダイガク,ダイガク\n",
      "として\t助詞,格助詞,連語,*,*,*,として,トシテ,トシテ\n",
      "設立\t名詞,サ変接続,*,*,*,*,設立,セツリツ,セツリツ\n",
      "さ\t動詞,自立,*,*,サ変・スル,未然レル接続,する,サ,サ\n",
      "れ\t動詞,接尾,*,*,一段,連用形,れる,レ,レ\n",
      "た\t助動詞,*,*,*,特殊・タ,基本形,た,タ,タ\n",
      "。\t記号,句点,*,*,*,*,。,。,。\n"
     ]
    }
   ],
   "source": [
    "from janome.tokenizer import Tokenizer\n",
    "\n",
    "t = Tokenizer() # <== これは辞書を読み込み、解析プログラムを起動状態にします。メモリを食うので、１つのプログラムで１回だけ実行して、あとは使いまわしてください。\n",
    "\n",
    "# 以下の入力文をいろいろ変えて試してみましょう。\n",
    "line = '東京大学は欧米諸国の諸制度に倣った、日本国内で初の近代的な大学として設立された。'\n",
    "\n",
    "for token in t.tokenize(line):\n",
    "    print(token)\n"
   ]
  },
  {
   "cell_type": "markdown",
   "metadata": {},
   "source": [
    "### 1.2 tokenの属性\n",
    "\n",
    "tokenには次のような属性があります。\n",
    "\n",
    "```\n",
    "surface（表層形）\n",
    "part_of_speech（品詞）\n",
    "infl_type（活用型）\n",
    "infl_form（活用形）\n",
    "base_form（基本形、見出し語）\n",
    "reading（読み）\n",
    "phonetic（発音）\n",
    "```\n",
    "\n",
    "形態素解析の特定の属性の要素だけを表示してみましょう。\n"
   ]
  },
  {
   "cell_type": "code",
   "execution_count": 2,
   "metadata": {},
   "outputs": [
    {
     "name": "stdout",
     "output_type": "stream",
     "text": [
      "東京大学\n",
      "は\n",
      "欧米\n",
      "諸国\n",
      "の\n",
      "諸\n",
      "制度\n",
      "に\n",
      "倣っ\n",
      "た\n",
      "、\n",
      "日本\n",
      "国内\n",
      "で\n",
      "初\n",
      "の\n",
      "近代\n",
      "的\n",
      "な\n",
      "大学\n",
      "として\n",
      "設立\n",
      "さ\n",
      "れ\n",
      "た\n",
      "。\n"
     ]
    }
   ],
   "source": [
    "line = '東京大学は欧米諸国の諸制度に倣った、日本国内で初の近代的な大学として設立された。'\n",
    "\n",
    "for token in t.tokenize(line):\n",
    "    print(token.surface) # 表層形のみ書き出し\n"
   ]
  },
  {
   "cell_type": "markdown",
   "metadata": {},
   "source": [
    "### 1.3 分かち書き\n",
    "\n",
    "テキスト分析において何はともあれ必要なのは、一連の文字列を単語に分割することです。  \n",
    "単語と単語の間に何らかの記号（空白やスラッシュ「/」）を挿入して記述することを「分かち書き」といいます。   \n",
    "janomeではフラグ`wakati`をTrueにすることで単語の表層形をリストとして生成することができます。"
   ]
  },
  {
   "cell_type": "code",
   "execution_count": 3,
   "metadata": {},
   "outputs": [
    {
     "name": "stdout",
     "output_type": "stream",
     "text": [
      "['東京大学', 'は', '欧米', '諸国', 'の', '諸', '制度', 'に', '倣っ', 'た', '、', '日本', '国内', 'で', '初', 'の', '近代', '的', 'な', '大学', 'として', '設立', 'さ', 'れ', 'た', '。']\n"
     ]
    }
   ],
   "source": [
    "line = '東京大学は欧米諸国の諸制度に倣った、日本国内で初の近代的な大学として設立された。'\n",
    "\n",
    "print(t.tokenize(line, wakati=True))"
   ]
  },
  {
   "cell_type": "markdown",
   "metadata": {},
   "source": [
    "### 1.4 品詞・固有表現\n",
    "\n",
    "品詞（part_of_speech, pos）の項目には、   \n",
    "```\n",
    "品詞,品詞細分類1,品詞細分類2,品詞細分類3\n",
    "```\n",
    "の３つの要素がカンマ区切りで納められています。   \n",
    "特に品詞細分類２と品詞細分類３には、IREX（※）で定められた以下の8種類の固有表現（Named Entity, NE)が納められています。\n",
    "\n",
    "- 組織名 (ORGANIZATION)\n",
    "- 人名 (PERSON)\n",
    "- 地名 (LOCATION)\n",
    "- 日付表現 (DATE)\n",
    "- 時間表現 (TIME)\n",
    "- 金額表現 (MONEY)\n",
    "- 割合表現 (PERCENT) \n",
    "- 固有物名 (ARTIFACT) \n",
    "\n",
    "※１９９８年５月頃から１９９９年９月まで行なわれた情報検索、情報抽出のコンテスト形式のプロジェクト。Information Retrieval and Extraction Exercise\n",
    "\n",
    "http://www.unixuser.org/~euske/doc/postag/"
   ]
  },
  {
   "cell_type": "code",
   "execution_count": 4,
   "metadata": {},
   "outputs": [
    {
     "name": "stdout",
     "output_type": "stream",
     "text": [
      "名詞,固有名詞,組織,*\n",
      "助詞,係助詞,*,*\n",
      "名詞,固有名詞,地域,一般\n",
      "名詞,一般,*,*\n",
      "助詞,連体化,*,*\n",
      "接頭詞,名詞接続,*,*\n",
      "名詞,一般,*,*\n",
      "助詞,格助詞,一般,*\n",
      "動詞,自立,*,*\n",
      "助動詞,*,*,*\n",
      "記号,読点,*,*\n",
      "名詞,固有名詞,地域,国\n",
      "名詞,一般,*,*\n",
      "助詞,格助詞,一般,*\n",
      "名詞,一般,*,*\n",
      "助詞,連体化,*,*\n",
      "名詞,一般,*,*\n",
      "名詞,接尾,形容動詞語幹,*\n",
      "助動詞,*,*,*\n",
      "名詞,一般,*,*\n",
      "助詞,格助詞,連語,*\n",
      "名詞,サ変接続,*,*\n",
      "動詞,自立,*,*\n",
      "動詞,接尾,*,*\n",
      "助動詞,*,*,*\n",
      "記号,句点,*,*\n"
     ]
    }
   ],
   "source": [
    "for token in t.tokenize(line):\n",
    "    print(token.part_of_speech)"
   ]
  },
  {
   "cell_type": "markdown",
   "metadata": {},
   "source": [
    "## 2. ユーザ定義辞書の追加\n",
    "\n",
    "Janomeをはじめ形態素解析器では、あらかじめ用意した形態素辞書から、最もそれらしい並びを選ぶことで形態素解析を行います。   \n",
    "逆に言えば、辞書に登録されていない形態素を見つけ出すことはできません。   \n",
    "辞書には一般的な用語は概ね登録されていると思いますが、固有名詞や新語、顔文字やくだけた表現（TwitterやFacebookのようなSNSを解析する際は解くに重要）は登録されていない場合が多いです。   \n",
    "形態素解析では、その形態素だけでなく、前後の並びをみて最適な形態素列を出力するため、文の中に解析不能な形態素が含まれていると、\n",
    "その前後の形態素解析も正しく行えない場合が多いです。   \n",
    "\n",
    "フリーの形態素解析器が使用する辞書は、多くの場合、新聞記事からなるコーパスを使って学習されています。   \n",
    "ですので、新聞記事に出てくるような形態素や文面は高い精度で解析が可能です。   \n",
    "しかし、TwitterやFacebookで多用される固有名詞や口語体、記号の組み合わせによる顔文字は解析が困難です。\n",
    "\n",
    "そこで、このような文面を解析するには、ユーザ辞書を作成して、既存の辞書に追加してください。   \n",
    "まず、ユーザ辞書を使わない場合の東京大学のある日のツイート（@UTokyo_News）を解析してみましょう。"
   ]
  },
  {
   "cell_type": "code",
   "execution_count": 5,
   "metadata": {},
   "outputs": [
    {
     "name": "stdout",
     "output_type": "stream",
     "text": [
      "ロス\t名詞,固有名詞,地域,一般,*,*,ロス,ロス,ロス\n",
      "マリン\t名詞,固有名詞,一般,*,*,*,マリン,マリン,マリン\n",
      "酸\t名詞,一般,*,*,*,*,酸,サン,サン\n",
      "摂取\t名詞,サ変接続,*,*,*,*,摂取,セッシュ,セッシュ\n",
      "後\t名詞,接尾,副詞可能,*,*,*,後,ゴ,ゴ\n",
      "の\t助詞,連体化,*,*,*,*,の,ノ,ノ\n",
      "脳\t名詞,一般,*,*,*,*,脳,ノウ,ノー\n",
      "内\t名詞,接尾,一般,*,*,*,内,ナイ,ナイ\n",
      "ドーパミン\t名詞,一般,*,*,*,*,ドーパミン,*,*\n",
      "が\t助詞,格助詞,一般,*,*,*,が,ガ,ガ\n",
      "アルツハイマー\t名詞,一般,*,*,*,*,アルツハイマー,アルツハイマー,アルツハイマー\n",
      "病\t名詞,接尾,一般,*,*,*,病,ビョウ,ビョー\n",
      "を\t助詞,格助詞,一般,*,*,*,を,ヲ,ヲ\n",
      "予防\t名詞,サ変接続,*,*,*,*,予防,ヨボウ,ヨボー\n",
      "する\t動詞,自立,*,*,サ変・スル,基本形,する,スル,スル\n",
      "  \t記号,空白,*,*,*,*,  ,*,*\n",
      "ポリ\t名詞,一般,*,*,*,*,ポリ,ポリ,ポリ\n",
      "フェノール\t名詞,一般,*,*,*,*,フェノール,フェノール,フェノール\n",
      "の\t助詞,連体化,*,*,*,*,の,ノ,ノ\n",
      "新た\t名詞,形容動詞語幹,*,*,*,*,新た,アラタ,アラタ\n",
      "な\t助動詞,*,*,*,特殊・ダ,体言接続,だ,ナ,ナ\n",
      "作用\t名詞,サ変接続,*,*,*,*,作用,サヨウ,サヨー\n",
      "機\t名詞,接尾,一般,*,*,*,機,キ,キ\n",
      "序\t名詞,サ変接続,*,*,*,*,序,ジョ,ジョ\n"
     ]
    }
   ],
   "source": [
    "line = 'ロスマリン酸摂取後の脳内ドーパミンがアルツハイマー病を予防する  ポリフェノールの新たな作用機序'\n",
    "\n",
    "for token in t.tokenize(line):\n",
    "    print(token)"
   ]
  },
  {
   "cell_type": "markdown",
   "metadata": {},
   "source": [
    "ここでは「ロスマリン」「ポリフェノール」「機序」をこのまとまりで形態素として認識できるような辞書を作りたいと思います。"
   ]
  },
  {
   "cell_type": "markdown",
   "metadata": {},
   "source": [
    "## 辞書の記述\n",
    "\n",
    "Janomeのデフォルトユーザー定義辞書のフォーマットは，MeCab 辞書と同じです。   \n",
    "MeCabについての説明を見てみましょう。  \n",
    "\n",
    "[MeCab「単語の追加方法」](http://taku910.github.io/mecab/dic.html)より抜粋：   \n",
    "\n",
    "----\n",
    "\n",
    "エントリは, 以下のような CSV で追加します. 名詞などの活用しない語だと, 登録は簡単です.\n",
    "\n",
    "`工藤,1223,1223,6058,名詞,固有名詞,人名,名,*,*,くどう,クドウ,クドウ`\n",
    "\n",
    "左から,\n",
    "\n",
    "`表層形,左文脈ID,右文脈ID,コスト,品詞,品詞細分類1,品詞細分類2,品詞細分類3,活用型,活用形,原形,読み,発音`  \n",
    "\n",
    "です.\n",
    "\n",
    "左文脈IDは, その単語を左から見たときの内部状態IDです. 通常システム 辞書と同一場所にある left-id.def から該当する ID を選択します. -1にすると、 mecab-dict-index が自動的に ID を付与します.\n",
    "\n",
    "右文脈IDは, その単語を右から見たときの内部状態IDです. 通常システム 辞書と同一場所にある right-id.def から該当する ID を選択します.-1にすると、 mecab-dict-index が自動的に ID を付与します.\n",
    "\n",
    "コストは,その単語がどれだけ出現しやすいかを示しています. 小さいほど, 出現しやすいという意味になります. 似たような単語と 同じスコアを割り振り, その単位で切り出せない場合は, 徐々に小さくしていけばいいと思います.\n",
    "\n",
    "さらに, 自分の好きな情報をCSVが許す範囲で追加してもかまいません.\n",
    "\n",
    "`ユーザ設定,,,10,名詞,一般,*,*,*,*,ユーザ設定,ユーザセッテイ,ユーザセッテイ,追加エントリ`\n",
    "\n",
    "----\n",
    "Janome v0.3では[mecabのipadic](https://sourceforge.net/projects/mecab/files/mecab-ipadic/2.7.0-20070801/)を辞書データとして読み込んでいます。   \n",
    "（IPAとは情報処理振興事業協会(Information-technology Promotion Agency)のことで、この辞書はIPAで設定されたIPA品詞体系(THiMCO97)に基づいて作成されたものです。）   \n",
    "このファイルをダウンロードして展開すると、`right-id.def`や`left-id.def`というファイルがあり、ここに品詞が列挙されています。 \n",
    "\n",
    "例えば固有名詞には次のような種類があります。\n",
    "```\n",
    "1288 名詞,固有名詞,一般,*,*,*,*\n",
    "1289 名詞,固有名詞,人名,一般,*,*,*\n",
    "1290 名詞,固有名詞,人名,姓,*,*,*\n",
    "1291 名詞,固有名詞,人名,名,*,*,*\n",
    "1292 名詞,固有名詞,組織,*,*,*,*\n",
    "1293 名詞,固有名詞,地域,一般,*,*,*\n",
    "1294 名詞,固有名詞,地域,国,*,*,*\n",
    "```\n",
    "上でも説明したように、形態素解析は、前後の形態素の並びを考慮しながら行います。   \n",
    "この時、右や左の単語とのつながり安さは、右や左の単語の品詞のつながり安さで表現されます。   \n",
    "このつながり安さは、ファイル`matrix.def`に記録されいます。   \n",
    "`right-id.def`や`left-id.def`で定義されている品詞番号と、`matrix.def`に記録されている品詞のつながり安さをもって、   \n",
    "もっともそれらしい形態素の並びを探し出しているというわけです。\n"
   ]
  },
  {
   "cell_type": "markdown",
   "metadata": {},
   "source": [
    "それでは実際にユーザ辞書を作成してみましょう。   \n",
    "コストはとりあえず1000とします。また、左文脈ID、右文脈IDはmecab-dict-indexに自動的に割り振ってもらうことにして、ここでは単に'-1'としましょう。\n",
    "\n",
    "ここではわざわざPythonでCSVファイルを生成するというやり方をとっていますが、ユーザ辞書はただのCSVファイルなので、\n",
    "何を使って作成しても構いません。   \n",
    "たとえばExcelやテキストエディタで直接作成しても結構です。"
   ]
  },
  {
   "cell_type": "code",
   "execution_count": 6,
   "metadata": {},
   "outputs": [],
   "source": [
    "with open('userdic.csv', 'w', encoding='utf-8') as f:\n",
    "    f.write('ロスマリン,-1,-1,1000,名詞,固有名詞,一般,*,*,*,ロスマリン,ロスマリン,ロスマリン\\n')\n",
    "    f.write('ポリフェノール,-1,-1,1000,名詞,固有名詞,一般,*,*,*,ポリフェノール,ポリフェノール,ポリフェノール\\n')\n",
    "    f.write('機序,-1,-1,1000,名詞,サ変接続,*,*,*,*,機序,キジョ,キジョ\\n')"
   ]
  },
  {
   "cell_type": "markdown",
   "metadata": {},
   "source": [
    "作成したユーザ辞書を読み込んで、形態素解析を実行してみましょう。   \n",
    "正しく解析できたでしょうか？"
   ]
  },
  {
   "cell_type": "code",
   "execution_count": 7,
   "metadata": {},
   "outputs": [
    {
     "name": "stdout",
     "output_type": "stream",
     "text": [
      "【\t記号,括弧開,*,*,*,*,【,【,【\n",
      "ロスマリン\t名詞,固有名詞,一般,*,*,*,ロスマリン,ロスマリン,ロスマリン\n",
      "酸\t名詞,一般,*,*,*,*,酸,サン,サン\n",
      "摂取\t名詞,サ変接続,*,*,*,*,摂取,セッシュ,セッシュ\n",
      "後\t名詞,接尾,副詞可能,*,*,*,後,ゴ,ゴ\n",
      "の\t助詞,連体化,*,*,*,*,の,ノ,ノ\n",
      "脳\t名詞,一般,*,*,*,*,脳,ノウ,ノー\n",
      "内\t名詞,接尾,一般,*,*,*,内,ナイ,ナイ\n",
      "ドーパミン\t名詞,一般,*,*,*,*,ドーパミン,*,*\n",
      "が\t助詞,格助詞,一般,*,*,*,が,ガ,ガ\n",
      "アルツハイマー\t名詞,一般,*,*,*,*,アルツハイマー,アルツハイマー,アルツハイマー\n",
      "病\t名詞,接尾,一般,*,*,*,病,ビョウ,ビョー\n",
      "を\t助詞,格助詞,一般,*,*,*,を,ヲ,ヲ\n",
      "予防\t名詞,サ変接続,*,*,*,*,予防,ヨボウ,ヨボー\n",
      "する\t動詞,自立,*,*,サ変・スル,基本形,する,スル,スル\n",
      "  \t記号,空白,*,*,*,*,  ,*,*\n",
      "ポリフェノール\t名詞,固有名詞,一般,*,*,*,ポリフェノール,ポリフェノール,ポリフェノール\n",
      "の\t名詞,非自立,一般,*,*,*,の,ノ,ノ\n",
      "新た\t名詞,形容動詞語幹,*,*,*,*,新た,アラタ,アラタ\n",
      "な\t助動詞,*,*,*,特殊・ダ,体言接続,だ,ナ,ナ\n",
      "作用\t名詞,サ変接続,*,*,*,*,作用,サヨウ,サヨー\n",
      "機序\t名詞,サ変接続,*,*,*,*,機序,キジョ,キジョ\n"
     ]
    }
   ],
   "source": [
    "from janome.tokenizer import Tokenizer\n",
    "t = Tokenizer(\"userdic.csv\", udic_enc=\"utf8\")\n",
    "\n",
    "line = '【ロスマリン酸摂取後の脳内ドーパミンがアルツハイマー病を予防する  ポリフェノールの新たな作用機序'\n",
    "\n",
    "for token in t.tokenize(line):\n",
    "    print(token)"
   ]
  },
  {
   "cell_type": "markdown",
   "metadata": {},
   "source": [
    "## 3. おまけ\n",
    "### 3.1 特定の品詞の単語のヒストグラムを計算しよう\n",
    "\n",
    "形態素解析の結果を用いて、その文書の特徴を解析してみましょう。   \n",
    "まずは、特定の小説から「名詞」のみを抜き出し、そのヒストグラムを描画してみます。   \n",
    "いくつかの小説は旧仮名遣いが使われていますが、このような用語はIPA辞書には登録されていないので、誤って「名詞」と判定されてしまいます。   \n",
    "本来ならユーザ辞書を作ってただしく解析させるべきですが、ここでは簡単のため、条件文で取り除くことにします。"
   ]
  },
  {
   "cell_type": "code",
   "execution_count": 8,
   "metadata": {},
   "outputs": [],
   "source": [
    "import csv\n",
    "import collections\n",
    "\n",
    "noun = []\n",
    "#with open('text/miyazwa_chuumon_morphem.csv', 'r', encoding='utf-8') as fi: # 「注文の多い料理店」\n",
    "#with open('text/miyazawa_gingatetsudo_morphem.csv', 'r', encoding='utf-8') as fi: # 「銀河鉄道の夜」\n",
    "#with open('text/dazai_ningenshikkaku_morphem.csv', 'r', encoding='utf-8') as fi: # 「人間失格」\n",
    "#with open('text/dazai_shayou_morphem.csv', 'r', encoding='utf-8') as fi: # 「斜陽」\n",
    "#with open('text/miyazawa_GauchetheCellist_morphem.csv', 'r', encoding='utf-8') as fi: # 「セロ弾きのゴーシュ」\n",
    "#with open('text/dazai_RunMelos_morphem.csv', 'r', encoding='utf-8') as fi: # 「走れメロス」\n",
    "with open('text/miyazawa_kazenomatasaburou_morphem.csv', 'r', encoding='utf-8') as fi: # 「風の又三郎」\n",
    "    dataReader = csv.reader(fi)\n",
    "    for row in dataReader:\n",
    "        # 旧仮名遣いによる誤認識を条件文によって除去（非推奨）\n",
    "        if row[1] == '名詞' and row[0] != 'つて' and row[0] != 'の' and row[0] != 'やう':\n",
    "#        if row[1] == '副詞':\n",
    "            noun.append(row[0])\n",
    "\n",
    "# 特定の品詞の形態素からなるリストから、その人グラムを生成\n",
    "count = collections.Counter(noun)"
   ]
  },
  {
   "cell_type": "markdown",
   "metadata": {},
   "source": [
    "ヒストグラムをグラフとして描画してみましょう。   \n",
    "\n",
    "ここで、日本語フォントをグラフに書き出すために、`font.family`という変数で、フォントを指定しています。   \n",
    "WindowsかMacかによって、使用できるフォントが異なります。   \n",
    "それぞれのOSにあったフォントが使用されるよう、適切な行をコメントアウトしてください。   \n",
    "もしそれでも文字化けする場合は、IPAex日本語フォントをインストールして設定してください。"
   ]
  },
  {
   "cell_type": "code",
   "execution_count": 21,
   "metadata": {},
   "outputs": [
    {
     "data": {
      "image/png": "[encoded data removed]",
      "text/plain": [
       "<Figure size 864x648 with 1 Axes>"
      ]
     },
     "metadata": {
      "needs_background": "light"
     },
     "output_type": "display_data"
    }
   ],
   "source": [
    "%matplotlib inline\n",
    "from operator import itemgetter\n",
    "import matplotlib.pyplot as plt\n",
    "\n",
    "sorted_count = sorted(count.items(), key=itemgetter(1), reverse=True)\n",
    "label = [x[0] for x in sorted_count]\n",
    "value = [x[1] for x in sorted_count]\n",
    "\n",
    "#フォントをインストールする場合はこちら↓\n",
    "#https://ipafont.ipa.go.jp/old/ipaexfont/download.html\n",
    "\n",
    "# IPAex日本語フォントのインストールができた人は、以下によって日本語が出力できるはずです\n",
    "# できていない環境では、日本語の文字は□に置き換えられます\n",
    "plt.rcParams[\"font.family\"] = \"IPAPGothic\"\n",
    "\n",
    "# Windowsなら以下でうまく行くかもしれません\n",
    "#plt.rcParams[\"font.family\"] = \"Yu Mincho\"\n",
    "# Macなら以下でうまく行くかもしれません\n",
    "#plt.rcParams['font.family'] = 'AppleGothic'\n",
    "\n",
    "plt.rcParams[\"font.size\"] = 18 # 文字のサイズ\n",
    "\n",
    "plt.figure(figsize=(12,9))\n",
    "plt.xticks(rotation=45, horizontalalignment='right')\n",
    "plt.plot(label[:30], value[:30])\n",
    "plt.savefig('fig_TextProcessing1-1.png') # 図を画像として保存"
   ]
  },
  {
   "cell_type": "markdown",
   "metadata": {},
   "source": [
    "### 3.2 ワードクラウド\n",
    "\n",
    "ワードクラウドはパッと見てその小説の内容を把握するためのアイコンとして用いられます。   \n",
    "出現頻度が高いほど、その単語が重要と考えて、その単語のフォントサイズを大きくします。   \n",
    "出現頻度の高いものから画面上にランダムに単語を配置することで画像を生成します。"
   ]
  },
  {
   "cell_type": "code",
   "execution_count": 1,
   "metadata": {},
   "outputs": [
    {
     "ename": "NameError",
     "evalue": "name 'count' is not defined",
     "output_type": "error",
     "traceback": [
      "\u001b[0;31m---------------------------------------------------------------------------\u001b[0m",
      "\u001b[0;31mNameError\u001b[0m                                 Traceback (most recent call last)",
      "\u001b[0;32m<ipython-input-1-6df8e8172428>\u001b[0m in \u001b[0;36m<module>\u001b[0;34m\u001b[0m\n\u001b[1;32m      7\u001b[0m     \u001b[0mfont_path\u001b[0m\u001b[0;34m=\u001b[0m\u001b[0;34m\"C:\\Windows\\Fonts\\msgothic.ttc\"\u001b[0m\u001b[0;34m,\u001b[0m \u001b[0;31m# Windows\u001b[0m\u001b[0;34m\u001b[0m\u001b[0;34m\u001b[0m\u001b[0m\n\u001b[1;32m      8\u001b[0m     \u001b[0;31m#font_path=\"/System/Library/Fonts//AppleSDGothicNeo.ttc\", # Mac OS\u001b[0m\u001b[0;34m\u001b[0m\u001b[0;34m\u001b[0m\u001b[0;34m\u001b[0m\u001b[0m\n\u001b[0;32m----> 9\u001b[0;31m     width=640,height=480).generate_from_frequencies(count)\n\u001b[0m\u001b[1;32m     10\u001b[0m \u001b[0;34m\u001b[0m\u001b[0m\n\u001b[1;32m     11\u001b[0m \u001b[0;31m# ワードクラウドの描画\u001b[0m\u001b[0;34m\u001b[0m\u001b[0;34m\u001b[0m\u001b[0;34m\u001b[0m\u001b[0m\n",
      "\u001b[0;31mNameError\u001b[0m: name 'count' is not defined"
     ]
    }
   ],
   "source": [
    "%matplotlib inline\n",
    "from wordcloud import WordCloud\n",
    "import matplotlib.pyplot as plt\n",
    "\n",
    "# ワードクラウドの生成\n",
    "wc = WordCloud(background_color=\"white\",\n",
    "    font_path=\"C:\\Windows\\Fonts\\msgothic.ttc\", # Windows\n",
    "    #font_path=\"/System/Library/Fonts//AppleSDGothicNeo.ttc\", # Mac OS\n",
    "    width=640,height=480).generate_from_frequencies(count)\n",
    "\n",
    "# ワードクラウドの描画\n",
    "fig = plt.figure(figsize=(12,8))\n",
    "plt.imshow(wc)\n",
    "plt.axis(\"off\")\n",
    "fig.tight_layout() # 図がはみ出さないようにレイアウト\n",
    "plt.savefig('fig/TextProcessing1-2.png') # 図を画像として保存"
   ]
  },
  {
   "cell_type": "markdown",
   "metadata": {
    "collapsed": true
   },
   "source": [
    "本教材の作品データは[青空文庫](https://www.aozora.gr.jp/index.html)のものを使用しています。   \n",
    "ただし、ルビや入力者注、アクセント分解された欧文や編者による注記等は削除しました。   \n",
    "また、詩のように短い文章から構成されるものをのぞくなど、調整を行っています。"
   ]
  }
 ],
 "metadata": {
  "kernelspec": {
   "display_name": "Python 3",
   "language": "python",
   "name": "python3"
  },
  "language_info": {
   "codemirror_mode": {
    "name": "ipython",
    "version": 3
   },
   "file_extension": ".py",
   "mimetype": "text/x-python",
   "name": "python",
   "nbconvert_exporter": "python",
   "pygments_lexer": "ipython3",
   "version": "3.7.3"
  }
 },
 "nbformat": 4,
 "nbformat_minor": 2
}
