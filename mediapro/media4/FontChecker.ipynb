{
 "cells": [
  {
   "cell_type": "markdown",
   "metadata": {},
   "source": [
    "# matplotlibで利用可能な日本語フォント\n",
    "\n",
    "matplotlibで描画するグラフに日本語文字を張りたい場合は、\n",
    "使用するフォントの種類に日本語が書き出し可能なフォントを指定する必要があります。\n",
    "\n",
    "## 1. 現状の確認方法\n",
    "まず、現在の設定は以下で確認できます。"
   ]
  },
  {
   "cell_type": "code",
   "execution_count": 1,
   "metadata": {},
   "outputs": [
    {
     "name": "stdout",
     "output_type": "stream",
     "text": [
      "デフォルトのフォントファミリー ['sans-serif']\n",
      "sans-serifのフォントリスト（最初のものから順に優先）： ['DejaVu Sans', 'Bitstream Vera Sans', 'Computer Modern Sans Serif', 'Lucida Grande', 'Verdana', 'Geneva', 'Lucid', 'Arial', 'Helvetica', 'Avant Garde', 'sans-serif']\n"
     ]
    }
   ],
   "source": [
    "import matplotlib as plt\n",
    "print('デフォルトのフォントファミリー',plt.rcParams[\"font.family\"])\n",
    "print('sans-serifのフォントリスト（最初のものから順に優先）：',plt.rcParams[\"font.sans-serif\"])"
   ]
  },
  {
   "cell_type": "markdown",
   "metadata": {},
   "source": [
    "デフォルトのフォントファミリーは'sans-serif'となっているのではないでしょうか？\n",
    "\n",
    "アルファベットの大分類には「serif」「sans-serif」「cursive」「fantasy」「monospace」があり、ここで指定しているのはこの大分類です。   \n",
    "日本語フォントうち、「MSゴシック」や「游ゴシック」「HGPゴシックE」のようなゴシック体は「sans-serif」フォントの一つですし、「MS明朝」や「游明朝」「HGP明朝E」のような明朝体は「serif」フォントの一つです。\n",
    "\n",
    "sans-serifが指定されると、今度はfont.sans-serifのリストを参照し、リストの上から順に、インストール済みのフォントが使われることになります。   \n",
    "ここに日本語を書き出し可能なフォントが含まれていないので、デフォルトのままだと日本語文字が「□」になってしまいます。\n",
    "\n"
   ]
  },
  {
   "cell_type": "markdown",
   "metadata": {},
   "source": [
    "## 2. 使用できるフォントの確認\n",
    "\n",
    "どのフォントが使用できるかは、それぞれのPCの環境によって異なります。   \n",
    "以下のセルを実行し、使用できるフォントのリストを表示してください。   \n",
    "\n",
    "この中で、「Gothic」や「Mincho」が含まれているフォントは、日本語が書き出せるフォントだと思います（違ったら私の理解が間違っているので、お手数ですがメッセージにてご報告を！）。"
   ]
  },
  {
   "cell_type": "code",
   "execution_count": 2,
   "metadata": {},
   "outputs": [
    {
     "name": "stdout",
     "output_type": "stream",
     "text": [
      "['STIXSizeOneSym', 'DejaVu Serif', 'STIXNonUnicode', 'STIXSizeThreeSym', 'cmsy10', 'DejaVu Sans Mono', 'STIXGeneral', 'STIXGeneral', 'cmmi10', 'DejaVu Sans Display', 'STIXGeneral', 'cmtt10', 'STIXSizeFourSym', 'DejaVu Serif', 'STIXSizeTwoSym', 'STIXNonUnicode', 'STIXNonUnicode', 'STIXSizeThreeSym', 'STIXNonUnicode', 'STIXGeneral', 'STIXSizeTwoSym', 'DejaVu Sans', 'DejaVu Sans Mono', 'DejaVu Sans', 'DejaVu Serif Display', 'STIXSizeFiveSym', 'STIXSizeOneSym', 'cmr10', 'DejaVu Sans', 'DejaVu Serif', 'DejaVu Sans', 'STIXSizeFourSym', 'DejaVu Sans Mono', 'DejaVu Sans Mono', 'cmb10', 'cmss10', 'DejaVu Serif', 'cmex10', 'MathJax_WinIE6', 'Ubuntu', 'stmary10', 'Droid Sans Fallback', 'padmaa-Bold.1.1', 'FreeSans', 'Tibetan Machine Uni', 'Gubbi', 'MathJax_Size4', 'Navilu', 'padmaa', 'Khmer OS', 'Bitstream Vera Serif', 'Lohit Odia', 'FreeSans', 'Garuda', 'Liberation Sans', 'Samyak Malayalam', 'Lato', 'KacstTitle', 'Liberation Sans', 'Norasi', 'Manjari', 'Bitstream Vera Sans', 'KacstDigital', 'FreeSans', 'Laksaman', 'Tlwg Typo', 'Ubuntu', 'Tlwg Typo', 'KacstPen', 'Purisa', 'Sarai', 'Sahadeva', 'Ubuntu', 'KacstLetter', 'Ubuntu', 'Liberation Sans Narrow', 'Bitstream Vera Sans', 'Liberation Serif', 'Lato', 'Kinnari', 'Pagul', 'Laksaman', 'Lato', 'Manjari', 'Kinnari', 'Lohit Devanagari', 'Kinnari', 'Purisa', 'Waree', 'OpenSymbol', 'Lato', 'FontAwesome', 'KacstOffice', 'Norasi', 'MathJax_Math', 'Liberation Sans Narrow', 'Liberation Serif', 'Ani', 'FreeMono', 'Ubuntu Condensed', 'Keraleeyam', 'FreeSans', 'Loma', 'Waree', 'Ubuntu Mono', 'Liberation Sans', 'Lato', 'Kalapi', 'Khmer OS System', 'Padauk', 'MathJax_Vector-Bold', 'Tlwg Typewriter', 'Rekha', 'Lato', 'Liberation Mono', 'Liberation Serif', 'Lato', 'MathJax_Size1', 'MathJax_Main', 'KacstQurn', 'Tlwg Typewriter', 'MathJax_WinChrome', 'Umpush', 'Suruma', 'Lohit Telugu', 'MathJax_Fraktur', 'KacstScreen', 'Liberation Mono', 'Lato', 'MathJax_Size3', 'KacstDecorative', 'LKLUG', 'Norasi', 'Ubuntu Mono', 'rsfs10', 'Samyak Devanagari', 'Padauk Book', 'Lato', 'Pothana2000', 'Lohit Tamil Classical', 'Lato', 'Tlwg Mono', 'ori1Uni', 'FreeMono', 'Mukti Narrow', 'Bitstream Vera Sans Mono', 'Ubuntu Mono', 'Rachana', 'Tlwg Typewriter', 'Waree', 'KacstOne', 'Lohit Bengali', 'Lato', 'FontAwesome', 'FreeSerif', 'Uroob', 'Lohit Malayalam', 'Umpush', 'Kinnari', 'KacstBook', 'FreeMono', 'MathJax_Size2', 'Noto Mono', 'Tlwg Typo', 'Bitstream Vera Sans', 'FreeMono', 'KacstOne', 'Umpush', 'AnjaliOldLipi', 'Loma', 'Waree', 'Garuda', 'Ubuntu', 'Tlwg Typist', 'Umpush', 'Liberation Sans', 'MathJax_Caligraphic', 'Lohit Gurmukhi', 'KacstArt', 'Kinnari', 'Tlwg Typewriter', 'Lato', 'Sawasdee', 'Chandas', 'KacstTitleL', 'Sawasdee', 'Tlwg Mono', 'Saab', 'aakar', 'FreeSerif', 'Lato', 'Norasi', 'Ubuntu Mono', 'Bitstream Vera Sans Mono', 'Sawasdee', 'MathJax_Caligraphic', 'Samanata', 'FreeSerif', 'MathJax_Vector', 'Lato', 'Lohit Gujarati', 'Loma', 'Purisa', 'Tlwg Mono', 'Bitstream Vera Sans Mono', 'Karumbi', 'Norasi', 'Samyak Tamil', 'Rachana', 'Liberation Mono', 'MathJax_SansSerif', 'Ubuntu', 'Lato', 'Manjari', 'Umpush', 'Garuda', 'Tlwg Typist', 'Liberation Mono', 'Lohit Kannada', 'Jamrul', 'Bitstream Vera Sans', 'MathJax_Math', 'Liberation Sans Narrow', 'Kalimati', 'Lato', 'Sawasdee', 'KacstNaskh', 'Vemana2000', 'Liberation Serif', 'Garuda', 'Laksaman', 'Lato', 'Ubuntu', 'Liberation Sans Narrow', 'Tlwg Typist', 'Tlwg Typist', 'MathJax_Script', 'Bitstream Vera Serif', 'eufm10', 'wasy10', 'mry_KacstQurn', 'Chilanka', 'MathJax_Main', 'msam10', 'Mukti Narrow', 'Lohit Tamil', 'Padauk', 'RaghuMalayalam', 'KacstFarsi', 'Norasi', 'Nakula', 'msbm10', 'Abyssinica SIL', 'MathJax_Math', 'Umpush', 'Padauk Book', 'Loma', 'Tlwg Typo', 'Tlwg Mono', 'Gargi', 'Mitra Mono', 'Lato', 'FreeSerif', 'MathJax_Typewriter', 'padmaa', 'Purisa', 'Likhan', 'Bitstream Vera Sans Mono', 'Laksaman', 'MathJax_Main', 'Dyuthi', 'KacstPoster', 'MathJax_SansSerif', 'Meera', 'MathJax_AMS', 'Lohit Assamese', 'Kinnari', 'Phetsarath OT', 'Ubuntu', 'MathJax_SansSerif', 'Samyak Gujarati', 'MathJax_Fraktur', 'esint10']\n"
     ]
    }
   ],
   "source": [
    "import matplotlib.font_manager\n",
    "print([f.name for f in matplotlib.font_manager.fontManager.ttflist])"
   ]
  },
  {
   "cell_type": "markdown",
   "metadata": {},
   "source": [
    "## 3. matplotlibで日本語フォントの指定\n",
    "\n",
    "演習ファイルにも載せましたが、以下のようにして使用するフォントを指定できます。"
   ]
  },
  {
   "cell_type": "code",
   "execution_count": 15,
   "metadata": {},
   "outputs": [],
   "source": [
    "plt.rcParams[\"font.family\"] = \"IPAexMincho\""
   ]
  },
  {
   "cell_type": "markdown",
   "metadata": {},
   "source": [
    "## 4. 日本語フォントのチェック\n",
    "\n",
    "以下のセルを実行して、日本語文字が書き出せるか確認してください。"
   ]
  },
  {
   "cell_type": "code",
   "execution_count": 18,
   "metadata": {},
   "outputs": [
    {
     "data": {
      "text/plain": [
       "Text(0.1, 0.5, 'これが表示されたら成功！')"
      ]
     },
     "execution_count": 18,
     "metadata": {},
     "output_type": "execute_result"
    },
    {
     "data": {
      "image/png": "[encoded data removed]",
      "text/plain": [
       "<Figure size 432x72 with 1 Axes>"
      ]
     },
     "metadata": {
      "needs_background": "light"
     },
     "output_type": "display_data"
    }
   ],
   "source": [
    "import matplotlib.pyplot as plt\n",
    "fig = plt.figure(figsize =(6, 1))\n",
    "ax = fig.add_subplot(111)\n",
    "ax.text(0.1, 0.5, \"これが表示されたら成功！\", size = 20, color = \"red\")"
   ]
  },
  {
   "cell_type": "code",
   "execution_count": 10,
   "metadata": {},
   "outputs": [
    {
     "name": "stdout",
     "output_type": "stream",
     "text": [
      "/home/denjo/anaconda3/lib/python3.7/site-packages/matplotlib/mpl-data/matplotlibrc\n"
     ]
    }
   ],
   "source": [
    "import matplotlib as mpl\n",
    "print(mpl.matplotlib_fname())"
   ]
  },
  {
   "cell_type": "code",
   "execution_count": 20,
   "metadata": {},
   "outputs": [
    {
     "name": "stdout",
     "output_type": "stream",
     "text": [
      "MathJax_SansSerif\n",
      "Bitstream Vera Sans Mono\n",
      "FreeMono\n",
      "Manjari\n",
      "Lato\n",
      "MathJax_Main\n",
      "Sahadeva\n",
      "Ani\n",
      "IPAexMincho\n"
     ]
    },
    {
     "ename": "RuntimeError",
     "evalue": "In FT2Font: Could not set the fontsize",
     "output_type": "error",
     "traceback": [
      "\u001b[0;31m---------------------------------------------------------------------------\u001b[0m",
      "\u001b[0;31mRuntimeError\u001b[0m                              Traceback (most recent call last)",
      "\u001b[0;32m<ipython-input-20-564beef86753>\u001b[0m in \u001b[0;36m<module>\u001b[0;34m\u001b[0m\n\u001b[1;32m      3\u001b[0m \u001b[0;31m# フォント一覧\u001b[0m\u001b[0;34m\u001b[0m\u001b[0;34m\u001b[0m\u001b[0;34m\u001b[0m\u001b[0m\n\u001b[1;32m      4\u001b[0m \u001b[0;32mfor\u001b[0m \u001b[0mfont\u001b[0m \u001b[0;32min\u001b[0m \u001b[0mfm\u001b[0m\u001b[0;34m.\u001b[0m\u001b[0mfindSystemFonts\u001b[0m\u001b[0;34m(\u001b[0m\u001b[0;34m)\u001b[0m\u001b[0;34m:\u001b[0m\u001b[0;34m\u001b[0m\u001b[0;34m\u001b[0m\u001b[0m\n\u001b[0;32m----> 5\u001b[0;31m     \u001b[0mprint\u001b[0m\u001b[0;34m(\u001b[0m\u001b[0mfm\u001b[0m\u001b[0;34m.\u001b[0m\u001b[0mFontProperties\u001b[0m\u001b[0;34m(\u001b[0m\u001b[0mfname\u001b[0m\u001b[0;34m=\u001b[0m\u001b[0mfont\u001b[0m\u001b[0;34m)\u001b[0m\u001b[0;34m.\u001b[0m\u001b[0mget_name\u001b[0m\u001b[0;34m(\u001b[0m\u001b[0;34m)\u001b[0m\u001b[0;34m)\u001b[0m\u001b[0;34m\u001b[0m\u001b[0;34m\u001b[0m\u001b[0m\n\u001b[0m",
      "\u001b[0;32m~/anaconda3/lib/python3.7/site-packages/matplotlib/font_manager.py\u001b[0m in \u001b[0;36mget_name\u001b[0;34m(self)\u001b[0m\n\u001b[1;32m    645\u001b[0m         \u001b[0mReturn\u001b[0m \u001b[0mthe\u001b[0m \u001b[0mname\u001b[0m \u001b[0mof\u001b[0m \u001b[0mthe\u001b[0m \u001b[0mfont\u001b[0m \u001b[0mthat\u001b[0m \u001b[0mbest\u001b[0m \u001b[0mmatches\u001b[0m \u001b[0mthe\u001b[0m \u001b[0mfont\u001b[0m \u001b[0mproperties\u001b[0m\u001b[0;34m.\u001b[0m\u001b[0;34m\u001b[0m\u001b[0;34m\u001b[0m\u001b[0m\n\u001b[1;32m    646\u001b[0m         \"\"\"\n\u001b[0;32m--> 647\u001b[0;31m         \u001b[0;32mreturn\u001b[0m \u001b[0mget_font\u001b[0m\u001b[0;34m(\u001b[0m\u001b[0mfindfont\u001b[0m\u001b[0;34m(\u001b[0m\u001b[0mself\u001b[0m\u001b[0;34m)\u001b[0m\u001b[0;34m)\u001b[0m\u001b[0;34m.\u001b[0m\u001b[0mfamily_name\u001b[0m\u001b[0;34m\u001b[0m\u001b[0;34m\u001b[0m\u001b[0m\n\u001b[0m\u001b[1;32m    648\u001b[0m \u001b[0;34m\u001b[0m\u001b[0m\n\u001b[1;32m    649\u001b[0m     \u001b[0;32mdef\u001b[0m \u001b[0mget_style\u001b[0m\u001b[0;34m(\u001b[0m\u001b[0mself\u001b[0m\u001b[0;34m)\u001b[0m\u001b[0;34m:\u001b[0m\u001b[0;34m\u001b[0m\u001b[0;34m\u001b[0m\u001b[0m\n",
      "\u001b[0;32m~/anaconda3/lib/python3.7/site-packages/matplotlib/font_manager.py\u001b[0m in \u001b[0;36mget_font\u001b[0;34m(filename, hinting_factor)\u001b[0m\n\u001b[1;32m   1289\u001b[0m     \u001b[0;32mif\u001b[0m \u001b[0mhinting_factor\u001b[0m \u001b[0;32mis\u001b[0m \u001b[0;32mNone\u001b[0m\u001b[0;34m:\u001b[0m\u001b[0;34m\u001b[0m\u001b[0;34m\u001b[0m\u001b[0m\n\u001b[1;32m   1290\u001b[0m         \u001b[0mhinting_factor\u001b[0m \u001b[0;34m=\u001b[0m \u001b[0mrcParams\u001b[0m\u001b[0;34m[\u001b[0m\u001b[0;34m'text.hinting_factor'\u001b[0m\u001b[0;34m]\u001b[0m\u001b[0;34m\u001b[0m\u001b[0;34m\u001b[0m\u001b[0m\n\u001b[0;32m-> 1291\u001b[0;31m     \u001b[0;32mreturn\u001b[0m \u001b[0m_get_font\u001b[0m\u001b[0;34m(\u001b[0m\u001b[0mfilename\u001b[0m\u001b[0;34m,\u001b[0m \u001b[0mhinting_factor\u001b[0m\u001b[0;34m)\u001b[0m\u001b[0;34m\u001b[0m\u001b[0;34m\u001b[0m\u001b[0m\n\u001b[0m\u001b[1;32m   1292\u001b[0m \u001b[0;34m\u001b[0m\u001b[0m\n\u001b[1;32m   1293\u001b[0m \u001b[0;34m\u001b[0m\u001b[0m\n",
      "\u001b[0;31mRuntimeError\u001b[0m: In FT2Font: Could not set the fontsize"
     ]
    }
   ],
   "source": [
    "import matplotlib.font_manager as fm\n",
    "\n",
    "# フォント一覧\n",
    "for font in fm.findSystemFonts():\n",
    "    print(fm.FontProperties(fname=font).get_name())"
   ]
  },
  {
   "cell_type": "code",
   "execution_count": null,
   "metadata": {},
   "outputs": [],
   "source": []
  }
 ],
 "metadata": {
  "kernelspec": {
   "display_name": "Python 3",
   "language": "python",
   "name": "python3"
  },
  "language_info": {
   "codemirror_mode": {
    "name": "ipython",
    "version": 3
   },
   "file_extension": ".py",
   "mimetype": "text/x-python",
   "name": "python",
   "nbconvert_exporter": "python",
   "pygments_lexer": "ipython3",
   "version": "3.7.3"
  }
 },
 "nbformat": 4,
 "nbformat_minor": 2
}
