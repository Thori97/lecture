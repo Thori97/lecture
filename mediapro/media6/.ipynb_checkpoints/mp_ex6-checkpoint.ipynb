{
 "cells": [
  {
   "cell_type": "markdown",
   "metadata": {},
   "source": [
    "# 第6回課題 写真から線画のイラストを作ろう！\n",
    "\n",
    "授業では2次元フィルタリングについて勉強しましたね。   \n",
    "異なる2次元フィルタを組み合わせることによって、さまざまな画像変換が行えるようになります。   \n",
    "ここでは、写真をイラストにする手法を試してみたいと思います。\n",
    "\n",
    "<H2><font color=\"red\">今回は原画像を皆さんに用意してもらうことにします。</font></H2><BR>\n",
    "\n",
    "- 原画像はスマホで撮影してパソコンに取り込んだり、パソコン内蔵のカメラを使って撮影したり、パブリックドメインの画像をWebからダウンロードすることで用意してください\n",
    "- 原画像はこの課題がおかれているフォルダなどにおいて、その写真のパスを、このノートブックの一番最初のコードセルにある変数`imgfile`に代入してください\n",
    "- 各処理において、それぞれパラメータを調整してきれいな線画を作成してください。\n",
    "    \n",
    "<H2><font color=\"red\">課題を提出する際は、画像が表示されている状態で保存し、このmp_ex6.ipynbファイルのみを提出してください。</font></H2>"
   ]
  },
  {
   "cell_type": "markdown",
   "metadata": {},
   "source": [
    "## 1. 写真の読み込み\n",
    "\n",
    "まずは元の画像を読み込みましょう。\n",
    "\n",
    "すでに説明した通り、opencvで画像を読み込むと、RGBではなくBGRの順番になりますので、cv2.cvtColorでBGRをRGBに変換するのを忘れないようにしましょう。   \n",
    "また、線画にするための処理では色情報は不要なので、ここでグレースケール画像に変換しておきます。"
   ]
  },
  {
   "cell_type": "code",
   "execution_count": null,
   "metadata": {},
   "outputs": [],
   "source": [
    "%matplotlib inline\n",
    "import matplotlib.pyplot as plt\n",
    "import cv2\n",
    "\n",
    "imgfile = '' # <-- ここに、皆さんが用意した画像のパスを記入してください\n",
    "img = cv2.cvtColor(cv2.imread(imgfile), cv2.COLOR_BGR2RGB) # BGRをRGBに変換\n",
    "img_gray = cv2.cvtColor(img, cv2.COLOR_RGB2GRAY) # フィルタリング用にグレースケール画像に変換\n",
    "\n",
    "plt.figure(figsize=(12, 8))\n",
    "plt.imshow(img_gray, 'gray')\n"
   ]
  },
  {
   "cell_type": "markdown",
   "metadata": {},
   "source": [
    "## 2. ノイズ除去 (Noise reduction by Bilateral Filter)\n",
    "\n",
    "きれいな線画を作るためには、細かい線はあらかじめ除去しておく必要があります。   \n",
    "しかし、輪郭線がなくなると困りますよね。   \n",
    "そこでここではバイラテラルフィルタを使いましょう。  \n",
    "\n",
    "バイラテラルフィルタは、画像の各画素について次のような処理をするフィルタです。\n",
    "\n",
    "- 周辺の画素の輝度値に比べてその画素の輝度が大きく異なる場合は輝度をあまり変化させず、    \n",
    "- 周辺の画素の輝度値に比べてその画素の輝度があまり変わらない場合はガウシアンフィルタをかけてぼかす\n",
    "\n",
    "`opencv`の`bilateralFilter`は以下の引数を受け取ります。   \n",
    "\n",
    "1. 変換対象の画像\n",
    "1. フィルタのサイズ\n",
    "1. 注目している画素が周辺とどの程度違うとガウシアンフィルタをつよくかけるかを決めるパラメータ。これもガウス関数の標準偏差。\n",
    "1. 離れた距離の画素の輝度をどの程度多く取るかを決めるパラメータ。ガウシアンフィルタの標準偏差に相当。\n",
    "\n",
    "上の3つのパラメータを調節してください。\n",
    "\n",
    "輪郭線を残したまま細かいまだら模様を消してくれるので、美肌フィルタとも呼ばれます。\n",
    "\n",
    "バイラテラルフィルタは何度かかけるほうが効果的です。"
   ]
  },
  {
   "cell_type": "code",
   "execution_count": null,
   "metadata": {},
   "outputs": [],
   "source": [
    "img_bilateral = img_gray\n",
    "for i in range(3):\n",
    "    img_bilateral = cv2.bilateralFilter(img_bilateral, # 入力画像\n",
    "                                        11, # フィルタサイズ\n",
    "                                        10, # 周辺画素の輝度差に対する重みを決めるガウス関数の標準偏差\n",
    "                                        3) # 周辺画素の距離に対する重みを決めるガウス関数の標準偏差\n",
    "\n",
    "plt.figure(figsize=(12, 8))\n",
    "plt.imshow(img_bilateral, 'gray')\n"
   ]
  },
  {
   "cell_type": "markdown",
   "metadata": {},
   "source": [
    "## 3. エッジ抽出 (Edge Detection)\n",
    "\n",
    "ここでは`ImageProcessing3.ipynb`で使ったラプラシアンフィルタを適用しましょう。  \n",
    "フィルタのサイズである`ksize`を調節してください。"
   ]
  },
  {
   "cell_type": "code",
   "execution_count": null,
   "metadata": {},
   "outputs": [],
   "source": [
    "img_laplacian =  cv2.Laplacian(img_bilateral, cv2.CV_8U, ksize=5)\n",
    "\n",
    "plt.figure(figsize=(12, 8))\n",
    "plt.imshow(img_laplacian, 'gray')\n"
   ]
  },
  {
   "cell_type": "markdown",
   "metadata": {},
   "source": [
    "## 4. 二値化 (Image Binalization)\n",
    "\n",
    "グレースケール画像を白黒からなる二値画像に変換します。   \n",
    "閾値`TH`を調節してもいいですし、`ImageBinalization.ipynb`で紹介した大津の二値化を使っても構いません。"
   ]
  },
  {
   "cell_type": "code",
   "execution_count": null,
   "metadata": {},
   "outputs": [],
   "source": [
    "TH = 80\n",
    "#ret, img_binary = cv2.threshold(img_laplacian, 0, 255, cv2.THRESH_OTSU) # 大津の二値化\n",
    "ret, img_binary = cv2.threshold(img_laplacian, TH, 255, cv2.THRESH_BINARY) # 閾値処理\n",
    "\n",
    "print('計算された閾値:', ret)\n",
    "plt.figure(figsize=(12, 8))\n",
    "plt.imshow(img_binary,'gray')\n"
   ]
  },
  {
   "cell_type": "markdown",
   "metadata": {},
   "source": [
    "## 5. 二値画像のノイズ除去\n",
    "\n",
    "二値画像におけるノイズとは、黒い空間の中に浮かぶ小さな白い小島のようなものです。   \n",
    "大きな島を残しつつ、小島を消すために、島の沿岸から島をぐるっと削り、また島の沿岸をぐるっと埋め立てることを考えましょう。\n",
    "\n",
    "小さな島は、何度か削るとなくなってしまうので、膨張させる段階になったときにはすでに存在しなくなります。   \n",
    "一方、大きな島は存在し続けるので、膨張させると元の島に近づきます。\n",
    "\n",
    "削る範囲を決める`kernel`のサイズと、何回削るのかを決める`iterations`のパラメータを調整してください。"
   ]
  },
  {
   "cell_type": "code",
   "execution_count": null,
   "metadata": {},
   "outputs": [],
   "source": [
    "import numpy as np\n",
    "\n",
    "kernel = np.ones((2,2),np.uint8)\n",
    "img_erosion = cv2.erode(img_binary,kernel,iterations = 1) # 白の領域を縮退させる\n",
    "img_dilation = cv2.dilate(img_erosion,kernel,iterations = 1) # 白の領域を膨張させる\n",
    "\n",
    "plt.figure(figsize=(12, 8))\n",
    "plt.imshow(img_dilation,'gray')\n"
   ]
  },
  {
   "cell_type": "markdown",
   "metadata": {},
   "source": [
    "## 6. 細線化 (Thinning)\n",
    "\n",
    "画素が２以上の太さを持つ線を、線を切らないように周りから削っていき、画素１の太さの線にする手法です。   \n",
    "`opencv`の発展的な関数である`ximgproc`のなかに`thinning`という関数があるのでこれを使いましょう。   \n",
    "\n",
    "細線化のアルゴリズムには以下の2つから選ぶことができます。\n",
    "\n",
    "- Zhang-Suenの手法：THINNING_ZHANGSUEN\n",
    "- Guo-Hallの手法：THINNING_GUOHALL\n",
    "\n",
    "下の出力画像上で線が途切れているように見えるかもしれませんが、それは画面サイズが小さいため、画像を縮小して表示する際に消えたように見えるためで、拡大すれば途切れていないことがわかるはずです。"
   ]
  },
  {
   "cell_type": "code",
   "execution_count": null,
   "metadata": {},
   "outputs": [],
   "source": [
    "img_thinning = cv2.ximgproc.thinning(img_dilation, None, cv2.ximgproc.THINNING_ZHANGSUEN) \n",
    "# img_thinning = cv2.ximgproc.thinning(img_dilation, None, cv2.ximgproc.THINNING_GUOHALL)\n",
    "    \n",
    "plt.figure(figsize=(12, 8))\n",
    "plt.imshow(img_thinning,'gray')\n"
   ]
  },
  {
   "cell_type": "markdown",
   "metadata": {},
   "source": [
    "## 7. 線を太くする\n",
    "\n",
    "「5. 二値画像のノイズ除去」で使った膨張処理を適用して線を太くします。   \n",
    "どれだけ太くするかは`kernel`のサイズや繰り返し回数`iterations`を調節してください。"
   ]
  },
  {
   "cell_type": "code",
   "execution_count": null,
   "metadata": {},
   "outputs": [],
   "source": [
    "import numpy as np\n",
    "\n",
    "kernel = np.ones((2,2),np.uint8)\n",
    "img_dilation = cv2.dilate(img_thinning, kernel, iterations = 2)\n",
    "\n",
    "plt.figure(figsize=(12, 8))\n",
    "plt.imshow(img_dilation,'gray')\n"
   ]
  },
  {
   "cell_type": "markdown",
   "metadata": {},
   "source": [
    "## 8. 白と黒を入れ替える\n",
    "\n",
    "線画は普通、白地に黒い線で書きますから、白と黒を入れ替えましょう。   \n",
    "これで完成です。  \n",
    "\n",
    "**この画像がきれいになるように上で適用した様々なフィルタのパラメータを調節してください！**"
   ]
  },
  {
   "cell_type": "code",
   "execution_count": null,
   "metadata": {},
   "outputs": [],
   "source": [
    "img_bitwise = cv2.bitwise_not(img_dilation) # 白と黒を入れ替え\n",
    "\n",
    "plt.figure(figsize=(12, 8))\n",
    "plt.imshow(img_bitwise,'gray')\n",
    "\n",
    "cv2.imwrite('img/LineDrawing.png', img_bitwise)"
   ]
  }
 ],
 "metadata": {
  "kernelspec": {
   "display_name": "Python 3",
   "language": "python",
   "name": "python3"
  },
  "language_info": {
   "codemirror_mode": {
    "name": "ipython",
    "version": 3
   },
   "file_extension": ".py",
   "mimetype": "text/x-python",
   "name": "python",
   "nbconvert_exporter": "python",
   "pygments_lexer": "ipython3",
   "version": "3.7.3"
  }
 },
 "nbformat": 4,
 "nbformat_minor": 2
}
