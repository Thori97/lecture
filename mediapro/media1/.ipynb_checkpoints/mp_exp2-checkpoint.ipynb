{
 "cells": [
  {
   "cell_type": "markdown",
   "metadata": {},
   "source": [
    "# メディアプログラミング入門：第2回本課題\n",
    "\n",
    "\n",
    "ある銘柄の株価データが与えられると、下のようなデザインのグラフを生成するプログラムを作成してください。  \n",
    "\n",
    "<img src=\"mi_exp2_target.png\">\n",
    "\n",
    "ただし、以下の条件を満たしてください。\n",
    "\n",
    "- 2018年1月1日～2018年3月31日までのトヨタの株価データを記録したファイル'TM_20180101-20190331_stock.csv'を読み込みます。   \n",
    "このファイルは、プログラムの冒頭で変数`file`に代入してから使用してください（下記のセルの1行目の通りです）。\n",
    "- 2019年1月1日～2019年1月31日のデータを描画\n",
    "- 日足データをそのまま描画（週足ではない）\n",
    "- 4日移動平均と13日移動平均を重畳描画し、その凡例をつける\n",
    "- X幅の主軸は週（毎週月曜）ごと、補助軸は日ごと\n",
    "- X軸のラベルの主軸は年月日、補助軸はなし\n",
    "- 出力した画像を`mi_exp2_ans.png`という名前の画像として保存\n",
    "- 一つのセルにまとめて下さい（セルをいくつも並べないでください）\n",
    "\n",
    "**本課題の評価では、`file`で指定した株価データを別の銘柄のものに変更して行います。   \n",
    "同じ形式で保存された他銘柄の株価データでも同様の結果を出せるようなプログラムを作成してください。**\n",
    "\n",
    "ヒント：\n",
    "\n",
    "- 基本的には`TimeSeriesDataAnalysis2.ipynb`から適切な部分をコピペしればできるはずです\n",
    "- ローソク足チャートの幅は`width`のパラメータで調節できます\n",
    "- 完全に一致しなくても構いません\n",
    "- わからなければできたところまでで出してください\n",
    "\n",
    "このファイルに**グラフが描画された状態で保存**して、`mp_exp2.ipynb`を提出してください。"
   ]
  },
  {
   "cell_type": "code",
   "execution_count": null,
   "metadata": {},
   "outputs": [],
   "source": [
    "file = 'TM_20180101-20190331_stock.csv' # この行は変更しないでください！\n",
    "\n",
    "# 以下にプログラムを書いてください。\n",
    "# 株価データのファイルは上の行で指定した変数 file を使ってください。\n",
    "# 課題の評価では、上記のfileで指定した株価データを別の銘柄に変更して行います。\n",
    "# 他の株価データでも同様の結果を出せるようなプログラムを作成してください。\n",
    "\n",
    "import pandas as pd\n",
    "sdf = pd.read_csv('TM_20180101-20190331_stock.csv')\n"
   ]
  },
  {
   "cell_type": "markdown",
   "metadata": {},
   "source": [
    "このような図になるはずです（上と同じ画像です）。\n",
    "\n",
    "<img src=\"mi_exp2_target.png\">\n"
   ]
  },
  {
   "cell_type": "code",
   "execution_count": null,
   "metadata": {},
   "outputs": [],
   "source": []
  }
 ],
 "metadata": {
  "kernelspec": {
   "display_name": "Python 3",
   "language": "python",
   "name": "python3"
  },
  "language_info": {
   "codemirror_mode": {
    "name": "ipython",
    "version": 3
   },
   "file_extension": ".py",
   "mimetype": "text/x-python",
   "name": "python",
   "nbconvert_exporter": "python",
   "pygments_lexer": "ipython3",
   "version": "3.7.3"
  }
 },
 "nbformat": 4,
 "nbformat_minor": 2
}
