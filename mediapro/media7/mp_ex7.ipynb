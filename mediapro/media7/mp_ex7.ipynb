{
 "cells": [
  {
   "cell_type": "markdown",
   "metadata": {},
   "source": [
    "# 第7回課題：ウェブスクレイピング\n",
    "\n",
    "東京大学のUTokyo Focus（https://www.u-tokyo.ac.jp/focus/ja/index.html) をスクレイピングして、所定の情報を取得してください。"
   ]
  },
  {
   "cell_type": "markdown",
   "metadata": {},
   "source": [
    "## 課題１：ヘッダ情報の取得\n",
    "\n",
    "東京大学のUTokyo Focus（https://www.u-tokyo.ac.jp/focus/ja/index.html) のタイトル（タグ\"TITLE\"でマークアップされているテキスト）を取り出して、**変数`title`に代入してください。**"
   ]
  },
  {
   "cell_type": "code",
   "execution_count": 6,
   "metadata": {},
   "outputs": [],
   "source": [
    "### ここに課題1のコードを書いてください\n",
    "import random\n",
    "import requests\n",
    "\n",
    "url = 'https://www.u-tokyo.ac.jp/focus/ja/index.html'\n",
    "\n",
    "res = requests.get(url)\n",
    "res.encoding = res.apparent_encoding  # 文字コードを設定\n",
    "\n",
    "from bs4 import BeautifulSoup\n",
    "\n",
    "# res.textには、上のセルでダウンロードしたHTMLソースが代入されています\n",
    "soup = BeautifulSoup(res.text, \"lxml\")\n",
    "\n",
    "title = soup.title.text"
   ]
  },
  {
   "cell_type": "markdown",
   "metadata": {},
   "source": [
    "以下のセルで出力してください。東大側のWebページに変更がなければ、以下のように表示されるはずです。   \n",
    "```\n",
    "このページのタイトル： UTokyo FOCUS | 東京大学\n",
    "```\n",
    "評価の際は変数`title`に入っている値が正しいかどうかで評価します。"
   ]
  },
  {
   "cell_type": "code",
   "execution_count": 7,
   "metadata": {},
   "outputs": [
    {
     "name": "stdout",
     "output_type": "stream",
     "text": [
      "このページのタイトル： UTokyo FOCUS | 東京大学\n"
     ]
    }
   ],
   "source": [
    "# このページのタイトルを変数'title'に代入して、以下の行で出力してください\n",
    "print('このページのタイトル：', title)  # この行は変更しないでください。"
   ]
  },
  {
   "cell_type": "markdown",
   "metadata": {},
   "source": [
    "## 課題２：UTokyo FOCUS>Latest News一覧の取得\n",
    "\n",
    "東京大学のUTokyo Focus（https://www.u-tokyo.ac.jp/focus/ja/index.html) のページのHTMLソースでは、Latest Newsの一覧は次のような書式で書かれています（これは2019年7月15日のLatest Newsの一部を抜粋したものです）。  "
   ]
  },
  {
   "cell_type": "markdown",
   "metadata": {},
   "source": [
    "```\n",
    "<div class=\"p-news-list p-news-list__latest-news\">\n",
    "    <div class=\"c-section__ineer\">\n",
    "        <div class=\"c-section__title-wrap\"><p class=\"c-section__title\" lang=\"en\">LATEST <span>NEWS</span></p></div>\n",
    "        <div class=\"l-row l-gutter-40\">\n",
    "            <div class=\"l-col-xs-12 l-col-sm-3\">\n",
    "                <div class=\"p-top-focus__item\">\n",
    "                    <a href=\"/focus/ja/features/fsi013.html\">\n",
    "                        <figure class=\"p-top-focus__image-box\">\n",
    "                            <img src=\"/content/400117278.jpg\" alt=\"\">\n",
    "                        </figure>\n",
    "                        <p class=\"p-top-focus__item-text\">宇宙用から、地球用へ</p>\n",
    "                        <p class=\"p-top-focus__item-date\">2019年7月15日</p>\n",
    "                        <p class=\"p-top-focus__item-tag\" lang=\"en\">科学と技術</p>\n",
    "                    </a>\n",
    "                </div>\n",
    "            </div>\n",
    "            <div class=\"l-col-xs-12 l-col-sm-3\">\n",
    "                <div class=\"p-top-focus__item\">\n",
    "                    <a href=\"/focus/ja/features/voices069.html\">\n",
    "                        <figure class=\"p-top-focus__image-box\">\n",
    "                            <img src=\"/content/400119211.jpg\" alt=\"\">\n",
    "                        </figure>\n",
    "                        <p class=\"p-top-focus__item-text\">光合成研究から次世代太陽電池の開発へ。光エネルギー変換にかけた35年。...</p>\n",
    "                        <p class=\"p-top-focus__item-date\">2019年7月11日</p>\n",
    "                        <p class=\"p-top-focus__item-tag\" lang=\"en\">UTOKYO VOICES</p>\n",
    "                    </a>\n",
    "                </div>\n",
    "            </div>\n",
    "        </div>\n",
    "    </div>\n",
    "</div>\n",
    "```"
   ]
  },
  {
   "cell_type": "markdown",
   "metadata": {},
   "source": [
    "ここからタグ情報を読み取って、Latest Newsの一覧を取得して、**そのテキストを`news`という名前のリストに代入**してください。   \n",
    "例えば上のようなHTMLソースなら、「宇宙用から、地球用へ」と「光合成研究から次世代太陽電池の開発へ。光エネルギー変換にかけた35年。...」がリスト`news`の要素となります。\n",
    "\n",
    "ヒント：「宇宙用から、地球用へ」や「光合成研究から次世代太陽電池の開発へ。光エネルギー変換にかけた35年。...」を囲んでいるHTMLタグは何でしょうか？"
   ]
  },
  {
   "cell_type": "code",
   "execution_count": 19,
   "metadata": {},
   "outputs": [],
   "source": [
    "### ここに課題２のコードを書いてください\n",
    "news = [] # このリストにニュースのテキストをappendしてください\n",
    "for div1 in soup.find_all('div', attrs={\"class\": \"p-news-list p-news-list__latest-news\"}):\n",
    "    for div2 in div1.find_all('p', attrs={\"class\": \"p-top-focus__item-text\"}):\n",
    "        news.append(div2.text.replace('\\n', ''))"
   ]
  },
  {
   "cell_type": "markdown",
   "metadata": {},
   "source": [
    "以下のセルで出力すると、東大側のWebページに変更がなければ、以下のように表示されるはずです。   \n",
    "**なお、これは2019年7月15日時点のリストなので、テキストの内容は皆さんがこのプログラムを実行したタイミングによって変わります。**\n",
    "```\n",
    "宇宙用から、地球用へ\n",
    "光合成研究から次世代太陽電池の開発へ。光エネルギー変換にかけた35年。...\n",
    "「2019年度厚生労働省臨床研究総合促進事業　治験・倫理審査委員会委員...\n",
    "人工知能を用いた簡便な白血病の薬剤耐性検査法を開発\n",
    "2019年9月、東京大学目白台インターナショナルビレッジが誕生！201...\n",
    "水をめぐるアジア史を、空間解析から読み解いていく\n",
    "第3回　東京大学環境安全衛生スローガン募集　実施報告\n",
    "令和元年度「東京大学安全の日」講演会　開催\n",
    "泳ぐ一細胞の代謝を経時測定 \n",
    "世界の川の流れをつかめ！\n",
    "ペプチド系抗生物質のアップグレード\n",
    "ハイパーカミオカンデ計画に参加予定の12ケ国の科学者、具体的な貢献につ...\n",
    "```\n",
    "評価の際は変数newsに入っている値が正しいかどうかで評価します。"
   ]
  },
  {
   "cell_type": "code",
   "execution_count": 20,
   "metadata": {},
   "outputs": [
    {
     "name": "stdout",
     "output_type": "stream",
     "text": [
      "無限時間経過後の量子状態を表すニューラルネットワークの構築に成功\n",
      "総合研究博物館の米田 穣教授が第32回濱田青陵賞を受賞\n",
      "「病気をもっても大丈夫」という回復のあり方と社会を目指して。｜ UTO...\n",
      "アミロイド凝集構造に含まれる疎水性ネットワークの正体\n",
      "産・学・官・民のリビングラボで、新たなビジネスを創出\n",
      "オックスフォード大学、ケンブリッジ大学クルーのボート漕ぎ動作データ計測...\n",
      "別々の3疾患に共通する原因がヒトゲノムCGG塩基の繰り返し配列の異常伸...\n",
      "市民参加型翻刻プロジェクト「みんなで翻刻」が7月22日 リニューアル公... (PDFファイル： 2.5MB) \n",
      "あなたは、職場でいきいきと働けていますか？\n",
      "レーザーとマイクロ流体チップによる超高速セルソーター\n",
      "光学顕微鏡で分子の分布を観る新しい顕微分光手法を開発\n",
      "総合文化研究科超域文化科学専攻の大西由紀助教が第24回日本比較文学会賞...\n"
     ]
    }
   ],
   "source": [
    "for n in news:\n",
    "    print(n)"
   ]
  },
  {
   "cell_type": "code",
   "execution_count": null,
   "metadata": {},
   "outputs": [],
   "source": []
  }
 ],
 "metadata": {
  "kernelspec": {
   "display_name": "Python 3",
   "language": "python",
   "name": "python3"
  },
  "language_info": {
   "codemirror_mode": {
    "name": "ipython",
    "version": 3
   },
   "file_extension": ".py",
   "mimetype": "text/x-python",
   "name": "python",
   "nbconvert_exporter": "python",
   "pygments_lexer": "ipython3",
   "version": "3.7.3"
  }
 },
 "nbformat": 4,
 "nbformat_minor": 2
}
