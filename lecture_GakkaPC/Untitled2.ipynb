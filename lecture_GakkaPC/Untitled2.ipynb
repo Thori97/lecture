{
 "cells": [
  {
   "cell_type": "code",
   "execution_count": 4,
   "metadata": {},
   "outputs": [],
   "source": [
    "import math\n",
    "import matplotlib.pyplot as plt\n",
    "import numpy as np"
   ]
  },
  {
   "cell_type": "code",
   "execution_count": 5,
   "metadata": {},
   "outputs": [],
   "source": [
    "V1 = 200/math.sqrt(3)\n",
    "G0 = 4.075 * 10**-3\n",
    "B0 = -5.09 * 10**-2\n",
    "r1 = 0.80\n",
    "x1x2 = 2.13\n",
    "r2 = 0.83\n",
    "ns = 1500"
   ]
  },
  {
   "cell_type": "code",
   "execution_count": 6,
   "metadata": {},
   "outputs": [],
   "source": [
    "def I1(s):\n",
    "    return V1/(math.sqrt((r1+r2/s)**2+x1x2**2))\n",
    "def Pa(s):\n",
    "    return 3*I1(s)**2*r2/s\n",
    "def T(s):\n",
    "    return Pa(s)/(2*math.pi*ns/60)"
   ]
  },
  {
   "cell_type": "code",
   "execution_count": 36,
   "metadata": {},
   "outputs": [
    {
     "ename": "TypeError",
     "evalue": "'list' object is not callable",
     "output_type": "error",
     "traceback": [
      "\u001b[0;31m---------------------------------------------------------------------------\u001b[0m",
      "\u001b[0;31mTypeError\u001b[0m                                 Traceback (most recent call last)",
      "\u001b[0;32m<ipython-input-36-43df0e68404f>\u001b[0m in \u001b[0;36m<module>\u001b[0;34m()\u001b[0m\n\u001b[1;32m      4\u001b[0m \u001b[0;32mfor\u001b[0m \u001b[0mi\u001b[0m \u001b[0;32min\u001b[0m \u001b[0;34m(\u001b[0m\u001b[0;36m0\u001b[0m\u001b[0;34m,\u001b[0m \u001b[0mn\u001b[0m\u001b[0;34m)\u001b[0m\u001b[0;34m:\u001b[0m\u001b[0;34m\u001b[0m\u001b[0;34m\u001b[0m\u001b[0m\n\u001b[1;32m      5\u001b[0m     \u001b[0mx\u001b[0m\u001b[0;34m.\u001b[0m\u001b[0mappend\u001b[0m\u001b[0;34m(\u001b[0m\u001b[0mi\u001b[0m\u001b[0;34m/\u001b[0m\u001b[0mn\u001b[0m\u001b[0;34m)\u001b[0m\u001b[0;34m\u001b[0m\u001b[0;34m\u001b[0m\u001b[0m\n\u001b[0;32m----> 6\u001b[0;31m     \u001b[0my\u001b[0m\u001b[0;34m.\u001b[0m\u001b[0mappend\u001b[0m\u001b[0;34m(\u001b[0m\u001b[0mT\u001b[0m\u001b[0;34m(\u001b[0m\u001b[0mi\u001b[0m\u001b[0;34m/\u001b[0m\u001b[0mn\u001b[0m\u001b[0;34m)\u001b[0m\u001b[0;34m)\u001b[0m\u001b[0;34m\u001b[0m\u001b[0;34m\u001b[0m\u001b[0m\n\u001b[0m\u001b[1;32m      7\u001b[0m \u001b[0mplt\u001b[0m\u001b[0;34m.\u001b[0m\u001b[0mplot\u001b[0m\u001b[0;34m(\u001b[0m\u001b[0mx\u001b[0m\u001b[0;34m,\u001b[0m \u001b[0my\u001b[0m\u001b[0;34m)\u001b[0m\u001b[0;34m\u001b[0m\u001b[0;34m\u001b[0m\u001b[0m\n\u001b[1;32m      8\u001b[0m \u001b[0mplt\u001b[0m\u001b[0;34m.\u001b[0m\u001b[0mshow\u001b[0m\u001b[0;34m(\u001b[0m\u001b[0mx\u001b[0m\u001b[0;34m,\u001b[0m \u001b[0my\u001b[0m\u001b[0;34m)\u001b[0m\u001b[0;34m\u001b[0m\u001b[0;34m\u001b[0m\u001b[0m\n",
      "\u001b[0;31mTypeError\u001b[0m: 'list' object is not callable"
     ]
    }
   ],
   "source": [
    "n = 100\n",
    "x = []\n",
    "y = []\n",
    "for i in (0, n):\n",
    "    x.append(i/n)\n",
    "    y.append(T(i/n))\n",
    "plt.plot(x, y)\n",
    "plt.show(x, y)"
   ]
  },
  {
   "cell_type": "code",
   "execution_count": 20,
   "metadata": {},
   "outputs": [
    {
     "data": {
      "text/plain": [
       "numpy.float64"
      ]
     },
     "execution_count": 20,
     "metadata": {},
     "output_type": "execute_result"
    }
   ],
   "source": [
    "s = np.linspace(0.001,1,100)\n",
    "type(s[0])"
   ]
  },
  {
   "cell_type": "code",
   "execution_count": null,
   "metadata": {},
   "outputs": [],
   "source": [
    "data  = [\n",
    "    [199.76, 5.93, -0.4833, 0.7065, 1494],\n",
    "    [190.22, 5.148, -0.3926, 0.6001, 1495],\n",
    "    [179.06, 4.487, -0.3148, 0.4992, 1496],\n",
    "    [169.85, 4.019, -0.2640, 0.4367, 1443],\n",
    "    [160.21, 3.623, -0.2162, 0.3752, 1493],\n",
    "    [149.14, 3.198, -0.1690, 0.3162, 1494],\n",
    "    [139.81, 2.914, -0.1383, 0.2761, 1490],\n",
    "    [130.61, 2.643, -0.1102, 0.2414, 1491],\n",
    "    [117.85, 2.322, -0.0804, 0.2002, 1489],\n",
    "    [109.99, 2.15, -0.0652, 0.1770, 1490],\n",
    "    [99.57, 1.925, -0.0455, 0.1497, 1486],\n",
    "    [90.16, 1.743, -0.0293, 0.1263, 1486],\n",
    "    [79.54, 1.561, -0.0137, 0.1040, 1481],\n",
    "    [70.05, 1.413, -0.0034, 0.0886, 1478],\n",
    "    [60.04, 1.304, 0.0059, 0.0747, 1471],\n",
    "    [49.04, 1.264, 0.0141, 0.0628, 1454],\n",
    "    [40.88, 1.301, 0.0192, 0.0545, 1434]\n",
    "]"
   ]
  }
 ],
 "metadata": {
  "kernelspec": {
   "display_name": "Python 3",
   "language": "python",
   "name": "python3"
  },
  "language_info": {
   "codemirror_mode": {
    "name": "ipython",
    "version": 3
   },
   "file_extension": ".py",
   "mimetype": "text/x-python",
   "name": "python",
   "nbconvert_exporter": "python",
   "pygments_lexer": "ipython3",
   "version": "3.6.7"
  }
 },
 "nbformat": 4,
 "nbformat_minor": 2
}
