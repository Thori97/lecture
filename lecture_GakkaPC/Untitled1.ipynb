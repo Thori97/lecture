{
 "cells": [
  {
   "cell_type": "code",
   "execution_count": 2,
   "metadata": {},
   "outputs": [],
   "source": [
    "#[f, v1, v2, dt(v2-v1)]\n",
    "result_1 = [\n",
    "    [100, 4.40, 2.48, -72*10**-6],\n",
    "    [1000, 4.56, 2.28, -76.0*10**-6],\n",
    "    [10000, 5.12, 568*10**-3, -22.8*10**-6]\n",
    "]\n",
    "result_2 = [\n",
    "    [100, 5.68, 86*10**-3, 2.24*10**-3],\n",
    "    [1000, 5.44, 696*10**-3, 164*10**-6],\n",
    "    [10000, 5.12, 1.28, 2.8*10**-6]\n",
    "]\n",
    "result_3 = [\n",
    "    [100, 5.60, 108*10**-3, 280*10**-6],\n",
    "    [1000, 5.60, 288*10**-3, 180*10**-6],\n",
    "    [10000, 5.12, 2.16, 17.2*10**-6]\n",
    "]"
   ]
  },
  {
   "cell_type": "code",
   "execution_count": 3,
   "metadata": {},
   "outputs": [
    {
     "name": "stdout",
     "output_type": "stream",
     "text": [
      "-0.04523893421169302\n",
      "-0.47752208334564844\n",
      "-1.4325662500369456\n"
     ]
    }
   ],
   "source": [
    "import math\n",
    "for r in result_1:\n",
    "    print(r[3]*r[0]*math.pi*2)"
   ]
  },
  {
   "cell_type": "code",
   "execution_count": 4,
   "metadata": {},
   "outputs": [
    {
     "name": "stdout",
     "output_type": "stream",
     "text": [
      "1.4074335088082275\n",
      "1.0304423903774522\n",
      "0.1759291886010284\n"
     ]
    }
   ],
   "source": [
    "for r in result_2:\n",
    "    print(r[3]*r[0]*math.pi*2)"
   ]
  },
  {
   "cell_type": "code",
   "execution_count": 105,
   "metadata": {},
   "outputs": [
    {
     "name": "stdout",
     "output_type": "stream",
     "text": [
      "-0.1759291886010284\n",
      "-1.1309733552923256\n",
      "-1.0807078728348887\n"
     ]
    }
   ],
   "source": [
    "for r in result_3:\n",
    "    print(-1*r[3]*r[0]*math.pi*2)"
   ]
  },
  {
   "cell_type": "code",
   "execution_count": 106,
   "metadata": {},
   "outputs": [
    {
     "data": {
      "text/plain": [
       "77.4193548387097"
      ]
     },
     "execution_count": 106,
     "metadata": {},
     "output_type": "execute_result"
    }
   ],
   "source": [
    "R = 100\n",
    "r1 = (result_1[0][1]*R/result_1[0][2])-R\n",
    "r1"
   ]
  },
  {
   "cell_type": "code",
   "execution_count": 107,
   "metadata": {},
   "outputs": [],
   "source": [
    "import matplotlib.pyplot as plt\n",
    "import cmath"
   ]
  },
  {
   "cell_type": "code",
   "execution_count": 108,
   "metadata": {},
   "outputs": [],
   "source": [
    "def inpedance(v1, v2, f, dt):\n",
    "    da = dt * f * 2*math.pi\n",
    "    return R*((v1/v2)*math.cos(da)+1j*math.sin(da))"
   ]
  },
  {
   "cell_type": "code",
   "execution_count": 111,
   "metadata": {
    "scrolled": true
   },
   "outputs": [
    {
     "name": "stdout",
     "output_type": "stream",
     "text": [
      "5105.148401262546\n",
      "827.9041780431966\n",
      "111.57426540215295\n"
     ]
    },
    {
     "data": {
      "image/png": "[encoded data removed]",
      "text/plain": [
       "<matplotlib.figure.Figure at 0x7f30f03432b0>"
      ]
     },
     "metadata": {},
     "output_type": "display_data"
    }
   ],
   "source": [
    "for r in result_1:\n",
    "    Z = inpedance(r[1], r[2], r[0],r[3])\n",
    "    plt.scatter(Z.real, -1*Z.imag, c = 'red')\n",
    "for r in result_2:\n",
    "    Z = inpedance(r[1], r[2], r[0],r[3])\n",
    "    plt.scatter(Z.real, -1*Z.imag, c = 'yellow')\n",
    "for r in result_3:\n",
    "    Z = inpedance(r[1], r[2], r[0],r[3])\n",
    "    plt.scatter(Z.real, Z.imag, c = 'blue')\n",
    "    print(Z.real)\n",
    "plt.show()"
   ]
  },
  {
   "cell_type": "code",
   "execution_count": 113,
   "metadata": {},
   "outputs": [
    {
     "data": {
      "image/png": "[encoded data removed]",
      "text/plain": [
       "<matplotlib.figure.Figure at 0x7f30f02cb4e0>"
      ]
     },
     "metadata": {},
     "output_type": "display_data"
    },
    {
     "name": "stdout",
     "output_type": "stream",
     "text": [
      "0.009999000099990002\n"
     ]
    }
   ],
   "source": [
    "import numpy as np\n",
    "R = 100\n",
    "L = 1*10**-2\n",
    "o = np.logspace(2, 4, 100, 10)\n",
    "def Z_C(o):\n",
    "    return 1/((1/R)+(1/1j*o*C))\n",
    "plt.plot(Z_C(o).real, 1*Z_C(o).imag)\n",
    "plt.show()\n",
    "print(Z_C(100).real)"
   ]
  },
  {
   "cell_type": "code",
   "execution_count": 103,
   "metadata": {},
   "outputs": [
    {
     "name": "stdout",
     "output_type": "stream",
     "text": [
      "5105.148401262546\n",
      "827.9041780431966\n",
      "111.57426540215295\n"
     ]
    },
    {
     "data": {
      "image/png": "[encoded data removed]",
      "text/plain": [
       "<matplotlib.figure.Figure at 0x7f30f013e0f0>"
      ]
     },
     "metadata": {},
     "output_type": "display_data"
    }
   ],
   "source": [
    "for r in result_3:\n",
    "    Z = inpedance(r[1], r[2], r[0],r[3])\n",
    "    plt.scatter(Z.real, -1*Z.imag, c = 'blue')\n",
    "    print(Z.real)"
   ]
  },
  {
   "cell_type": "code",
   "execution_count": 104,
   "metadata": {},
   "outputs": [
    {
     "name": "stdout",
     "output_type": "stream",
     "text": [
      "17.502305897527602\n",
      "90.48270524660195\n",
      "88.22912264349532\n"
     ]
    },
    {
     "data": {
      "image/png": "[encoded data removed]",
      "text/plain": [
       "<matplotlib.figure.Figure at 0x7f30f06007b8>"
      ]
     },
     "metadata": {},
     "output_type": "display_data"
    }
   ],
   "source": [
    "for r in result_3:\n",
    "    Z = inpedance(r[1], r[2], r[0],r[3])\n",
    "    plt.scatter(Z.real, -1*Z.imag, c = 'blue')\n",
    "    print(Z.imag)"
   ]
  },
  {
   "cell_type": "code",
   "execution_count": 122,
   "metadata": {},
   "outputs": [],
   "source": [
    "RA = 100\n",
    "RB = 677\n",
    "RC = 224\n",
    "Cs = 1.0*10**-7"
   ]
  },
  {
   "cell_type": "code",
   "execution_count": 92,
   "metadata": {},
   "outputs": [
    {
     "data": {
      "text/plain": [
       "302.23214285714283"
      ]
     },
     "execution_count": 92,
     "metadata": {},
     "output_type": "execute_result"
    }
   ],
   "source": [
    "Rx = RA*RB/RC\n",
    "Rx"
   ]
  },
  {
   "cell_type": "code",
   "execution_count": 94,
   "metadata": {},
   "outputs": [
    {
     "data": {
      "text/plain": [
       "2.24e-07"
      ]
     },
     "execution_count": 94,
     "metadata": {},
     "output_type": "execute_result"
    }
   ],
   "source": [
    "Cx = Cs*RC/RA\n",
    "Cx"
   ]
  },
  {
   "cell_type": "code",
   "execution_count": 114,
   "metadata": {},
   "outputs": [],
   "source": [
    "RC = 7300"
   ]
  },
  {
   "cell_type": "code",
   "execution_count": 116,
   "metadata": {},
   "outputs": [
    {
     "data": {
      "text/plain": [
       "7.2999999999999996e-06"
      ]
     },
     "execution_count": 116,
     "metadata": {},
     "output_type": "execute_result"
    }
   ],
   "source": [
    "Cx = Cs*RC/RA\n",
    "Cx"
   ]
  },
  {
   "cell_type": "code",
   "execution_count": 134,
   "metadata": {},
   "outputs": [],
   "source": [
    "RA = 1000"
   ]
  },
  {
   "cell_type": "code",
   "execution_count": 135,
   "metadata": {},
   "outputs": [],
   "source": [
    "result6_1 = [\n",
    "    #[f, RB, RC, 電流, 電圧]\n",
    "    [100, 154, 1863, 2.4, 5.40],\n",
    "    [200, 154, 1858, 3.9, 5.40],\n",
    "    [500, 153, 1842, 5.9, 5.40],\n",
    "    [1000, 153, 1834, 9.5, 5.40],\n",
    "    [2000, 152, 1813, 5.8, 5.60],\n",
    "    [5000, 151, 1748, 1.6, 6.00],\n",
    "    [10000, 150, 1738, 0.8, 6.20]\n",
    "]"
   ]
  },
  {
   "cell_type": "code",
   "execution_count": null,
   "metadata": {},
   "outputs": [],
   "source": []
  },
  {
   "cell_type": "code",
   "execution_count": null,
   "metadata": {},
   "outputs": [],
   "source": []
  },
  {
   "cell_type": "code",
   "execution_count": 141,
   "metadata": {},
   "outputs": [
    {
     "data": {
      "image/png": "[encoded data removed]",
      "text/plain": [
       "<matplotlib.figure.Figure at 0x7f30f0148978>"
      ]
     },
     "metadata": {},
     "output_type": "display_data"
    },
    {
     "data": {
      "image/png": "[encoded data removed]",
      "text/plain": [
       "<matplotlib.figure.Figure at 0x7f30f030b9e8>"
      ]
     },
     "metadata": {},
     "output_type": "display_data"
    },
    {
     "data": {
      "text/plain": [
       "[<matplotlib.lines.Line2D at 0x7f30f0646b00>]"
      ]
     },
     "execution_count": 141,
     "metadata": {},
     "output_type": "execute_result"
    },
    {
     "data": {
      "image/png": "[encoded data removed]",
      "text/plain": [
       "<matplotlib.figure.Figure at 0x7f30f06461d0>"
      ]
     },
     "metadata": {},
     "output_type": "display_data"
    }
   ],
   "source": [
    "f_s = []\n",
    "Rx = []\n",
    "Lx = []\n",
    "Q = []\n",
    "for r in result6_1:\n",
    "    f, rb, rc, vd, V= r\n",
    "    f_s.append(f)\n",
    "    Rx.append(RA*rb/rc)\n",
    "    Lx.append(RA*rb*Cs)\n",
    "    Q.append(f*2*math.pi*Cs*rc)\n",
    "    \n",
    "plt.xscale('log')\n",
    "plt.plot(f_s, Rx)\n",
    "plt.show()\n",
    "plt.xscale('log')\n",
    "plt.plot(f_s, Lx)\n",
    "plt.show()\n",
    "plt.xscale('log')\n",
    "plt.plot(f_s, Q)"
   ]
  },
  {
   "cell_type": "code",
   "execution_count": null,
   "metadata": {},
   "outputs": [],
   "source": []
  }
 ],
 "metadata": {
  "kernelspec": {
   "display_name": "Python 3",
   "language": "python",
   "name": "python3"
  },
  "language_info": {
   "codemirror_mode": {
    "name": "ipython",
    "version": 3
   },
   "file_extension": ".py",
   "mimetype": "text/x-python",
   "name": "python",
   "nbconvert_exporter": "python",
   "pygments_lexer": "ipython3",
   "version": "3.6.7"
  }
 },
 "nbformat": 4,
 "nbformat_minor": 2
}
