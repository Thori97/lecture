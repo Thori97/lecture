{
 "cells": [
  {
   "cell_type": "code",
   "execution_count": 2,
   "metadata": {},
   "outputs": [],
   "source": [
    "import matplotlib.pyplot as plt\n",
    "import numpy as np"
   ]
  },
  {
   "cell_type": "code",
   "execution_count": 31,
   "metadata": {},
   "outputs": [],
   "source": [
    "x1 = [-3, -3]\n",
    "y1 = [0, 4]\n",
    "x2 = [-2, -2]\n",
    "y2 = [0, 3]\n",
    "x3 = [-4, -4]\n",
    "y3 = [0, 3]\n",
    "x4 = [3, 3]\n",
    "y4 = [0, 4]\n",
    "x5 = [2, 2]\n",
    "y5 = [0, 3]\n",
    "x6 = [4, 4]\n",
    "y6 = [0, 3]"
   ]
  },
  {
   "cell_type": "code",
   "execution_count": 83,
   "metadata": {},
   "outputs": [
    {
     "data": {
      "image/png": "[encoded data removed]",
      "text/plain": [
       "<Figure size 432x288 with 1 Axes>"
      ]
     },
     "metadata": {
      "needs_background": "light"
     },
     "output_type": "display_data"
    }
   ],
   "source": [
    "fig, ax = plt.subplots()\n",
    "ax.plot(x1, y1, color = 'b')\n",
    "ax.plot(x2,y2, color = 'b')\n",
    "ax.plot(x3,y3, color = 'b')\n",
    "ax.plot(x4,y4, color = 'b')\n",
    "ax.plot(x5,y5, color = 'b')\n",
    "ax.plot(x6,y6, color = 'b')\n",
    "ax.set_xticks([-4, -3, -2, 2, 3, 4])\n",
    "ax.set_xticklabels(['$-f_c - f_m$','$-f_c$','$-f_c +f_m$', '$f_c -f_m$', '$f_c$', '$f_c+f_m$'])\n",
    "ax.tick_params(labelleft=False,left=False)\n",
    "plt.savefig(\"3_1.png\", dpi = 1000)"
   ]
  },
  {
   "cell_type": "code",
   "execution_count": 87,
   "metadata": {},
   "outputs": [],
   "source": [
    "fm = 45\n",
    "fc = 200\n",
    "x = [-2*fc, -fc-fm, -fc+fm, -2*fm, 0, 2*fm, fc-fm, fc+fm, 2*fc]"
   ]
  },
  {
   "cell_type": "code",
   "execution_count": 88,
   "metadata": {},
   "outputs": [],
   "source": [
    "xa = [x[0], x[0]]\n",
    "ya = [0, 3]\n",
    "xb = [x[1], x[1]]\n",
    "yb = [0, 10]\n",
    "xc = [x[2], x[2]]\n",
    "yc = [0, 10]\n",
    "xd = [x[3], x[3]]\n",
    "yd = [0, 3]\n",
    "xe = [x[4], x[4]]\n",
    "ye = [0, 10]\n",
    "xf = [x[5], x[5]]\n",
    "yf = [0, 3]\n",
    "xg = [x[6], x[6]]\n",
    "yg = [0, 10]\n",
    "xh = [x[7], x[7]]\n",
    "yh = [0, 10]\n",
    "xi = [x[8], x[8]]\n",
    "yi = [0, 3]"
   ]
  },
  {
   "cell_type": "code",
   "execution_count": 89,
   "metadata": {},
   "outputs": [
    {
     "data": {
      "image/png": "[encoded data removed]",
      "text/plain": [
       "<Figure size 432x288 with 1 Axes>"
      ]
     },
     "metadata": {
      "needs_background": "light"
     },
     "output_type": "display_data"
    }
   ],
   "source": [
    "fig, ax = plt.subplots()\n",
    "plt.rcParams[\"font.size\"] = 10\n",
    "ax.plot(xa, ya, color = 'b')\n",
    "ax.plot(xb, yb, color = 'b')\n",
    "ax.plot(xc, yc, color = 'b')\n",
    "ax.plot(xd, yd, color = 'b')\n",
    "ax.plot(xe, ye, color = 'b')\n",
    "ax.plot(xf, yf, color = 'b')\n",
    "ax.plot(xg, yg, color = 'b')\n",
    "ax.plot(xh, yh, color = 'b')\n",
    "ax.plot(xi, yi, color = 'b')\n",
    "ax.set_xticks([x[0], x[1], x[2], x[3], x[4], x[5], x[6], x[7], x[8]])\n",
    "ax.set_xticklabels(['$-2f_c$','$-f_c-f_m$','$-f_c +f_m$', '$-2f_m$','0','$2f_m$','$f_c -f_m$', '$f_c+f_m$', '$2f_c$'])\n",
    "ax.tick_params(labelleft=False,left=False)\n",
    "plt.savefig(\"3_2.png\", dpi = 1000)"
   ]
  },
  {
   "cell_type": "code",
   "execution_count": null,
   "metadata": {},
   "outputs": [],
   "source": []
  },
  {
   "cell_type": "code",
   "execution_count": 102,
   "metadata": {},
   "outputs": [],
   "source": [
    "T = np.logspace(0.1, 10, 10)"
   ]
  },
  {
   "cell_type": "code",
   "execution_count": 103,
   "metadata": {},
   "outputs": [],
   "source": [
    "n = np.exp(-(0.3)/(T))"
   ]
  },
  {
   "cell_type": "code",
   "execution_count": 104,
   "metadata": {},
   "outputs": [
    {
     "data": {
      "image/png": "[encoded data removed]",
      "text/plain": [
       "<Figure size 432x288 with 1 Axes>"
      ]
     },
     "metadata": {
      "needs_background": "light"
     },
     "output_type": "display_data"
    }
   ],
   "source": [
    "plt.plot(1/T, n)\n",
    "plt.xscale('log')"
   ]
  },
  {
   "cell_type": "code",
   "execution_count": 253,
   "metadata": {},
   "outputs": [
    {
     "name": "stdout",
     "output_type": "stream",
     "text": [
      "3999.999999999999\n"
     ]
    }
   ],
   "source": [
    "ND = 6.136e14\n",
    "NC = 1.04e25\n",
    "NV = 6.1e24\n",
    "k = 1.38e-23\n",
    "EG = 0.69*1.6e-19\n",
    "print(EG/2/k)"
   ]
  },
  {
   "cell_type": "code",
   "execution_count": 248,
   "metadata": {},
   "outputs": [
    {
     "data": {
      "text/plain": [
       "171.77168423016158"
      ]
     },
     "execution_count": 248,
     "metadata": {},
     "output_type": "execute_result"
    }
   ],
   "source": [
    "-1*EG/2/k/np.log(ND/np.sqrt(NC*NV))"
   ]
  },
  {
   "cell_type": "code",
   "execution_count": 255,
   "metadata": {},
   "outputs": [
    {
     "name": "stdout",
     "output_type": "stream",
     "text": [
      "3999.999999999999\n"
     ]
    }
   ],
   "source": [
    "m0 = 9.1e-31\n",
    "me = 0.082*m0\n",
    "mh = 0.3*m0\n",
    "h = 6.6e-34\n",
    "T = np.linspace(150, 500)\n",
    "NCC = 2*((2*np.pi*k*T*me/h**2)**1.5)\n",
    "NVV = 2*((2*np.pi*k*T*mh/h**2)**1.5)\n",
    "print(EG/2/k)\n",
    "y = np.sqrt(2*((2*np.pi*k*T*me/h**2)**1.5)*2*((2*np.pi*k*T*mh/h**2)**1.5))*np.exp(-1*EG/(k*T))"
   ]
  },
  {
   "cell_type": "code",
   "execution_count": 256,
   "metadata": {},
   "outputs": [],
   "source": [
    "import matplotlib.pyplot as plt"
   ]
  },
  {
   "cell_type": "code",
   "execution_count": 257,
   "metadata": {},
   "outputs": [
    {
     "data": {
      "text/plain": [
       "(0.002, 0.012)"
      ]
     },
     "execution_count": 257,
     "metadata": {},
     "output_type": "execute_result"
    },
    {
     "data": {
      "image/png": "[encoded data removed]",
      "text/plain": [
       "<Figure size 432x288 with 1 Axes>"
      ]
     },
     "metadata": {
      "needs_background": "light"
     },
     "output_type": "display_data"
    }
   ],
   "source": [
    "plt.plot(1/T, y)\n",
    "n = np.array([ND]*len(T))\n",
    "plt.plot(1/T, n)\n",
    "plt.yscale(\"log\")\n",
    "plt.xlim(0.002, 0.012)"
   ]
  },
  {
   "cell_type": "code",
   "execution_count": null,
   "metadata": {},
   "outputs": [],
   "source": []
  },
  {
   "cell_type": "code",
   "execution_count": null,
   "metadata": {},
   "outputs": [],
   "source": []
  },
  {
   "cell_type": "code",
   "execution_count": null,
   "metadata": {},
   "outputs": [],
   "source": []
  }
 ],
 "metadata": {
  "kernelspec": {
   "display_name": "Python 3",
   "language": "python",
   "name": "python3"
  },
  "language_info": {
   "codemirror_mode": {
    "name": "ipython",
    "version": 3
   },
   "file_extension": ".py",
   "mimetype": "text/x-python",
   "name": "python",
   "nbconvert_exporter": "python",
   "pygments_lexer": "ipython3",
   "version": "3.6.8"
  }
 },
 "nbformat": 4,
 "nbformat_minor": 2
}
